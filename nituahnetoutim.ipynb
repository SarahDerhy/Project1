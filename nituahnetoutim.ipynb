{
 "cells": [
  {
   "cell_type": "markdown",
   "id": "e725ef51-80be-4c50-aed4-e14196c729ec",
   "metadata": {},
   "source": [
    "# High School Student Performance and  Demographics"
   ]
  },
  {
   "cell_type": "markdown",
   "id": "cc53909f-6f1a-4aaa-8c88-5267f9a07e00",
   "metadata": {},
   "source": [
    "### Group 19"
   ]
  },
  {
   "cell_type": "markdown",
   "id": "f0e97e92-abf3-4f85-a970-d9c0a6b098fa",
   "metadata": {},
   "source": [
    "## Sarah Derhy and Shirel Amar"
   ]
  },
  {
   "cell_type": "markdown",
   "id": "9dac9a62-60e2-4e0d-a7c6-da69bdecc278",
   "metadata": {},
   "source": [
    " #### Github link : https://www.kaggle.com/datasets/dillonmyrick/high-school-student-performance-and-demographics"
   ]
  },
  {
   "cell_type": "markdown",
   "id": "4edd342b-f2e9-4fdc-8b20-2a8a7254f5af",
   "metadata": {},
   "source": [
    "### 1. Reading data"
   ]
  },
  {
   "cell_type": "code",
   "execution_count": 2,
   "id": "bfe560e8-447d-414b-b77d-d434d88785f9",
   "metadata": {
    "tags": []
   },
   "outputs": [],
   "source": [
    "import pandas as pd\n",
    "import seaborn as sns\n",
    "import geopandas as gpd\n",
    "import matplotlib.pyplot as plt\n",
    "import numpy as np\n",
    "import requests\n",
    "from IPython.display import Image\n",
    "from matplotlib.patches import Patch\n",
    "import matplotlib.patches as mpatches"
   ]
  },
  {
   "cell_type": "code",
   "execution_count": 3,
   "id": "7da8676d-779b-4bc4-b2fa-4b05868e2bc2",
   "metadata": {},
   "outputs": [],
   "source": [
    "# STAM"
   ]
  },
  {
   "cell_type": "code",
   "execution_count": 4,
   "id": "52895222-4970-4053-a798-7fbb8d5a71e7",
   "metadata": {
    "tags": []
   },
   "outputs": [],
   "source": [
    "url= 'https://raw.githubusercontent.com/SarahDerhy/Project1/main/student_math_clean.csv'\n",
    "student_df = pd.read_csv(url)"
   ]
  },
  {
   "cell_type": "code",
   "execution_count": 5,
   "id": "5ee50d23-b585-4d50-a6c1-edcafc680637",
   "metadata": {
    "tags": []
   },
   "outputs": [],
   "source": [
    "student_df=student_df.copy()"
   ]
  },
  {
   "cell_type": "code",
   "execution_count": 6,
   "id": "bc8560e9-001c-4a6c-8249-6772a0358a49",
   "metadata": {
    "tags": []
   },
   "outputs": [
    {
     "data": {
      "text/html": [
       "<div>\n",
       "<style scoped>\n",
       "    .dataframe tbody tr th:only-of-type {\n",
       "        vertical-align: middle;\n",
       "    }\n",
       "\n",
       "    .dataframe tbody tr th {\n",
       "        vertical-align: top;\n",
       "    }\n",
       "\n",
       "    .dataframe thead th {\n",
       "        text-align: right;\n",
       "    }\n",
       "</style>\n",
       "<table border=\"1\" class=\"dataframe\">\n",
       "  <thead>\n",
       "    <tr style=\"text-align: right;\">\n",
       "      <th></th>\n",
       "      <th>student_id</th>\n",
       "      <th>school</th>\n",
       "      <th>sex</th>\n",
       "      <th>age</th>\n",
       "      <th>address_type</th>\n",
       "      <th>family_size</th>\n",
       "      <th>parent_status</th>\n",
       "      <th>mother_education</th>\n",
       "      <th>father_education</th>\n",
       "      <th>mother_job</th>\n",
       "      <th>...</th>\n",
       "      <th>family_relationship</th>\n",
       "      <th>free_time</th>\n",
       "      <th>social</th>\n",
       "      <th>weekday_alcohol</th>\n",
       "      <th>weekend_alcohol</th>\n",
       "      <th>health</th>\n",
       "      <th>absences</th>\n",
       "      <th>grade_1</th>\n",
       "      <th>grade_2</th>\n",
       "      <th>final_grade</th>\n",
       "    </tr>\n",
       "  </thead>\n",
       "  <tbody>\n",
       "    <tr>\n",
       "      <th>0</th>\n",
       "      <td>1</td>\n",
       "      <td>GP</td>\n",
       "      <td>F</td>\n",
       "      <td>18</td>\n",
       "      <td>Urban</td>\n",
       "      <td>Greater than 3</td>\n",
       "      <td>Apart</td>\n",
       "      <td>higher education</td>\n",
       "      <td>higher education</td>\n",
       "      <td>at_home</td>\n",
       "      <td>...</td>\n",
       "      <td>4</td>\n",
       "      <td>3</td>\n",
       "      <td>4</td>\n",
       "      <td>1</td>\n",
       "      <td>1</td>\n",
       "      <td>3</td>\n",
       "      <td>6</td>\n",
       "      <td>5</td>\n",
       "      <td>6</td>\n",
       "      <td>6</td>\n",
       "    </tr>\n",
       "    <tr>\n",
       "      <th>1</th>\n",
       "      <td>2</td>\n",
       "      <td>GP</td>\n",
       "      <td>F</td>\n",
       "      <td>17</td>\n",
       "      <td>Urban</td>\n",
       "      <td>Greater than 3</td>\n",
       "      <td>Living together</td>\n",
       "      <td>primary education (4th grade)</td>\n",
       "      <td>primary education (4th grade)</td>\n",
       "      <td>at_home</td>\n",
       "      <td>...</td>\n",
       "      <td>5</td>\n",
       "      <td>3</td>\n",
       "      <td>3</td>\n",
       "      <td>1</td>\n",
       "      <td>1</td>\n",
       "      <td>3</td>\n",
       "      <td>4</td>\n",
       "      <td>5</td>\n",
       "      <td>5</td>\n",
       "      <td>6</td>\n",
       "    </tr>\n",
       "    <tr>\n",
       "      <th>2</th>\n",
       "      <td>3</td>\n",
       "      <td>GP</td>\n",
       "      <td>F</td>\n",
       "      <td>15</td>\n",
       "      <td>Urban</td>\n",
       "      <td>Less than or equal to 3</td>\n",
       "      <td>Living together</td>\n",
       "      <td>primary education (4th grade)</td>\n",
       "      <td>primary education (4th grade)</td>\n",
       "      <td>at_home</td>\n",
       "      <td>...</td>\n",
       "      <td>4</td>\n",
       "      <td>3</td>\n",
       "      <td>2</td>\n",
       "      <td>2</td>\n",
       "      <td>3</td>\n",
       "      <td>3</td>\n",
       "      <td>10</td>\n",
       "      <td>7</td>\n",
       "      <td>8</td>\n",
       "      <td>10</td>\n",
       "    </tr>\n",
       "    <tr>\n",
       "      <th>3</th>\n",
       "      <td>4</td>\n",
       "      <td>GP</td>\n",
       "      <td>F</td>\n",
       "      <td>15</td>\n",
       "      <td>Urban</td>\n",
       "      <td>Greater than 3</td>\n",
       "      <td>Living together</td>\n",
       "      <td>higher education</td>\n",
       "      <td>5th to 9th grade</td>\n",
       "      <td>health</td>\n",
       "      <td>...</td>\n",
       "      <td>3</td>\n",
       "      <td>2</td>\n",
       "      <td>2</td>\n",
       "      <td>1</td>\n",
       "      <td>1</td>\n",
       "      <td>5</td>\n",
       "      <td>2</td>\n",
       "      <td>15</td>\n",
       "      <td>14</td>\n",
       "      <td>15</td>\n",
       "    </tr>\n",
       "    <tr>\n",
       "      <th>4</th>\n",
       "      <td>5</td>\n",
       "      <td>GP</td>\n",
       "      <td>F</td>\n",
       "      <td>16</td>\n",
       "      <td>Urban</td>\n",
       "      <td>Greater than 3</td>\n",
       "      <td>Living together</td>\n",
       "      <td>secondary education</td>\n",
       "      <td>secondary education</td>\n",
       "      <td>other</td>\n",
       "      <td>...</td>\n",
       "      <td>4</td>\n",
       "      <td>3</td>\n",
       "      <td>2</td>\n",
       "      <td>1</td>\n",
       "      <td>2</td>\n",
       "      <td>5</td>\n",
       "      <td>4</td>\n",
       "      <td>6</td>\n",
       "      <td>10</td>\n",
       "      <td>10</td>\n",
       "    </tr>\n",
       "  </tbody>\n",
       "</table>\n",
       "<p>5 rows × 34 columns</p>\n",
       "</div>"
      ],
      "text/plain": [
       "   student_id school sex  age address_type              family_size  \\\n",
       "0           1     GP   F   18        Urban           Greater than 3   \n",
       "1           2     GP   F   17        Urban           Greater than 3   \n",
       "2           3     GP   F   15        Urban  Less than or equal to 3   \n",
       "3           4     GP   F   15        Urban           Greater than 3   \n",
       "4           5     GP   F   16        Urban           Greater than 3   \n",
       "\n",
       "     parent_status               mother_education  \\\n",
       "0            Apart               higher education   \n",
       "1  Living together  primary education (4th grade)   \n",
       "2  Living together  primary education (4th grade)   \n",
       "3  Living together               higher education   \n",
       "4  Living together            secondary education   \n",
       "\n",
       "                father_education mother_job  ... family_relationship  \\\n",
       "0               higher education    at_home  ...                   4   \n",
       "1  primary education (4th grade)    at_home  ...                   5   \n",
       "2  primary education (4th grade)    at_home  ...                   4   \n",
       "3               5th to 9th grade     health  ...                   3   \n",
       "4            secondary education      other  ...                   4   \n",
       "\n",
       "  free_time social weekday_alcohol weekend_alcohol  health absences grade_1  \\\n",
       "0         3      4               1               1       3        6       5   \n",
       "1         3      3               1               1       3        4       5   \n",
       "2         3      2               2               3       3       10       7   \n",
       "3         2      2               1               1       5        2      15   \n",
       "4         3      2               1               2       5        4       6   \n",
       "\n",
       "  grade_2 final_grade  \n",
       "0       6           6  \n",
       "1       5           6  \n",
       "2       8          10  \n",
       "3      14          15  \n",
       "4      10          10  \n",
       "\n",
       "[5 rows x 34 columns]"
      ]
     },
     "execution_count": 6,
     "metadata": {},
     "output_type": "execute_result"
    }
   ],
   "source": [
    "student_df.head()"
   ]
  },
  {
   "cell_type": "code",
   "execution_count": 7,
   "id": "2a316f92-eb9e-4b0e-a939-e84705976dde",
   "metadata": {
    "tags": []
   },
   "outputs": [
    {
     "data": {
      "text/plain": [
       "(395, 34)"
      ]
     },
     "execution_count": 7,
     "metadata": {},
     "output_type": "execute_result"
    }
   ],
   "source": [
    "student_df.shape"
   ]
  },
  {
   "cell_type": "code",
   "execution_count": 8,
   "id": "66d629fd-e362-474b-9cf5-cbb052831637",
   "metadata": {
    "tags": []
   },
   "outputs": [
    {
     "data": {
      "text/html": [
       "<div>\n",
       "<style scoped>\n",
       "    .dataframe tbody tr th:only-of-type {\n",
       "        vertical-align: middle;\n",
       "    }\n",
       "\n",
       "    .dataframe tbody tr th {\n",
       "        vertical-align: top;\n",
       "    }\n",
       "\n",
       "    .dataframe thead th {\n",
       "        text-align: right;\n",
       "    }\n",
       "</style>\n",
       "<table border=\"1\" class=\"dataframe\">\n",
       "  <thead>\n",
       "    <tr style=\"text-align: right;\">\n",
       "      <th></th>\n",
       "      <th>nulls</th>\n",
       "    </tr>\n",
       "  </thead>\n",
       "  <tbody>\n",
       "    <tr>\n",
       "      <th>student_id</th>\n",
       "      <td>0</td>\n",
       "    </tr>\n",
       "    <tr>\n",
       "      <th>school</th>\n",
       "      <td>0</td>\n",
       "    </tr>\n",
       "    <tr>\n",
       "      <th>sex</th>\n",
       "      <td>0</td>\n",
       "    </tr>\n",
       "    <tr>\n",
       "      <th>age</th>\n",
       "      <td>0</td>\n",
       "    </tr>\n",
       "    <tr>\n",
       "      <th>address_type</th>\n",
       "      <td>0</td>\n",
       "    </tr>\n",
       "    <tr>\n",
       "      <th>family_size</th>\n",
       "      <td>0</td>\n",
       "    </tr>\n",
       "    <tr>\n",
       "      <th>parent_status</th>\n",
       "      <td>0</td>\n",
       "    </tr>\n",
       "    <tr>\n",
       "      <th>mother_education</th>\n",
       "      <td>0</td>\n",
       "    </tr>\n",
       "    <tr>\n",
       "      <th>father_education</th>\n",
       "      <td>0</td>\n",
       "    </tr>\n",
       "    <tr>\n",
       "      <th>mother_job</th>\n",
       "      <td>0</td>\n",
       "    </tr>\n",
       "    <tr>\n",
       "      <th>father_job</th>\n",
       "      <td>0</td>\n",
       "    </tr>\n",
       "    <tr>\n",
       "      <th>school_choice_reason</th>\n",
       "      <td>0</td>\n",
       "    </tr>\n",
       "    <tr>\n",
       "      <th>guardian</th>\n",
       "      <td>0</td>\n",
       "    </tr>\n",
       "    <tr>\n",
       "      <th>travel_time</th>\n",
       "      <td>0</td>\n",
       "    </tr>\n",
       "    <tr>\n",
       "      <th>study_time</th>\n",
       "      <td>0</td>\n",
       "    </tr>\n",
       "    <tr>\n",
       "      <th>class_failures</th>\n",
       "      <td>0</td>\n",
       "    </tr>\n",
       "    <tr>\n",
       "      <th>school_support</th>\n",
       "      <td>0</td>\n",
       "    </tr>\n",
       "    <tr>\n",
       "      <th>family_support</th>\n",
       "      <td>0</td>\n",
       "    </tr>\n",
       "    <tr>\n",
       "      <th>extra_paid_classes</th>\n",
       "      <td>0</td>\n",
       "    </tr>\n",
       "    <tr>\n",
       "      <th>activities</th>\n",
       "      <td>0</td>\n",
       "    </tr>\n",
       "    <tr>\n",
       "      <th>nursery_school</th>\n",
       "      <td>0</td>\n",
       "    </tr>\n",
       "    <tr>\n",
       "      <th>higher_ed</th>\n",
       "      <td>0</td>\n",
       "    </tr>\n",
       "    <tr>\n",
       "      <th>internet_access</th>\n",
       "      <td>0</td>\n",
       "    </tr>\n",
       "    <tr>\n",
       "      <th>romantic_relationship</th>\n",
       "      <td>0</td>\n",
       "    </tr>\n",
       "    <tr>\n",
       "      <th>family_relationship</th>\n",
       "      <td>0</td>\n",
       "    </tr>\n",
       "    <tr>\n",
       "      <th>free_time</th>\n",
       "      <td>0</td>\n",
       "    </tr>\n",
       "    <tr>\n",
       "      <th>social</th>\n",
       "      <td>0</td>\n",
       "    </tr>\n",
       "    <tr>\n",
       "      <th>weekday_alcohol</th>\n",
       "      <td>0</td>\n",
       "    </tr>\n",
       "    <tr>\n",
       "      <th>weekend_alcohol</th>\n",
       "      <td>0</td>\n",
       "    </tr>\n",
       "    <tr>\n",
       "      <th>health</th>\n",
       "      <td>0</td>\n",
       "    </tr>\n",
       "    <tr>\n",
       "      <th>absences</th>\n",
       "      <td>0</td>\n",
       "    </tr>\n",
       "    <tr>\n",
       "      <th>grade_1</th>\n",
       "      <td>0</td>\n",
       "    </tr>\n",
       "    <tr>\n",
       "      <th>grade_2</th>\n",
       "      <td>0</td>\n",
       "    </tr>\n",
       "    <tr>\n",
       "      <th>final_grade</th>\n",
       "      <td>0</td>\n",
       "    </tr>\n",
       "  </tbody>\n",
       "</table>\n",
       "</div>"
      ],
      "text/plain": [
       "                       nulls\n",
       "student_id                 0\n",
       "school                     0\n",
       "sex                        0\n",
       "age                        0\n",
       "address_type               0\n",
       "family_size                0\n",
       "parent_status              0\n",
       "mother_education           0\n",
       "father_education           0\n",
       "mother_job                 0\n",
       "father_job                 0\n",
       "school_choice_reason       0\n",
       "guardian                   0\n",
       "travel_time                0\n",
       "study_time                 0\n",
       "class_failures             0\n",
       "school_support             0\n",
       "family_support             0\n",
       "extra_paid_classes         0\n",
       "activities                 0\n",
       "nursery_school             0\n",
       "higher_ed                  0\n",
       "internet_access            0\n",
       "romantic_relationship      0\n",
       "family_relationship        0\n",
       "free_time                  0\n",
       "social                     0\n",
       "weekday_alcohol            0\n",
       "weekend_alcohol            0\n",
       "health                     0\n",
       "absences                   0\n",
       "grade_1                    0\n",
       "grade_2                    0\n",
       "final_grade                0"
      ]
     },
     "execution_count": 8,
     "metadata": {},
     "output_type": "execute_result"
    }
   ],
   "source": [
    "student_df.isnull().sum().to_frame('nulls') #there is no missing values"
   ]
  },
  {
   "cell_type": "code",
   "execution_count": 9,
   "id": "73c071ba-b64b-43b6-9eb9-78621fc10d22",
   "metadata": {},
   "outputs": [],
   "source": [
    "#demander a lihi ou raz demain pr rapport au 35 collones si toutes les garder ou cest trop ? avoir une idee conductrice en tete et voir pour le nettoyage du kovetz"
   ]
  },
  {
   "cell_type": "code",
   "execution_count": 10,
   "id": "22f6c019-115e-40f3-81c5-6c6be8a33da3",
   "metadata": {
    "tags": []
   },
   "outputs": [
    {
     "data": {
      "text/plain": [
       "student_id                int64\n",
       "school                   object\n",
       "sex                      object\n",
       "age                       int64\n",
       "address_type             object\n",
       "family_size              object\n",
       "parent_status            object\n",
       "mother_education         object\n",
       "father_education         object\n",
       "mother_job               object\n",
       "father_job               object\n",
       "school_choice_reason     object\n",
       "guardian                 object\n",
       "travel_time              object\n",
       "study_time               object\n",
       "class_failures            int64\n",
       "school_support           object\n",
       "family_support           object\n",
       "extra_paid_classes       object\n",
       "activities               object\n",
       "nursery_school           object\n",
       "higher_ed                object\n",
       "internet_access          object\n",
       "romantic_relationship    object\n",
       "family_relationship       int64\n",
       "free_time                 int64\n",
       "social                    int64\n",
       "weekday_alcohol           int64\n",
       "weekend_alcohol           int64\n",
       "health                    int64\n",
       "absences                  int64\n",
       "grade_1                   int64\n",
       "grade_2                   int64\n",
       "final_grade               int64\n",
       "dtype: object"
      ]
     },
     "execution_count": 10,
     "metadata": {},
     "output_type": "execute_result"
    }
   ],
   "source": [
    "student_df.dtypes"
   ]
  },
  {
   "cell_type": "code",
   "execution_count": 11,
   "id": "c4075531-b828-4eb9-9ac8-00c9e62c98e1",
   "metadata": {},
   "outputs": [],
   "source": [
    "#faire des beuax croquis avec des beaux titres +pourcentages clairs and relevant"
   ]
  },
  {
   "cell_type": "code",
   "execution_count": 12,
   "id": "6fb2040b-84be-43da-bf10-e709168b62ee",
   "metadata": {},
   "outputs": [],
   "source": [
    "#faire des corelations et en tirer des conclusions"
   ]
  },
  {
   "cell_type": "code",
   "execution_count": 13,
   "id": "4b15c5c2-32d3-439d-93db-7383c79de1b6",
   "metadata": {
    "tags": []
   },
   "outputs": [
    {
     "data": {
      "text/plain": [
       "Index(['student_id', 'school', 'sex', 'age', 'address_type', 'family_size',\n",
       "       'parent_status', 'mother_education', 'father_education', 'mother_job',\n",
       "       'father_job', 'school_choice_reason', 'guardian', 'travel_time',\n",
       "       'study_time', 'class_failures', 'school_support', 'family_support',\n",
       "       'extra_paid_classes', 'activities', 'nursery_school', 'higher_ed',\n",
       "       'internet_access', 'romantic_relationship', 'family_relationship',\n",
       "       'free_time', 'social', 'weekday_alcohol', 'weekend_alcohol', 'health',\n",
       "       'absences', 'grade_1', 'grade_2', 'final_grade'],\n",
       "      dtype='object')"
      ]
     },
     "execution_count": 13,
     "metadata": {},
     "output_type": "execute_result"
    }
   ],
   "source": [
    "student_df.columns"
   ]
  },
  {
   "cell_type": "code",
   "execution_count": 14,
   "id": "c1aaf61f-67cc-4c44-a83a-0f9910d8d61c",
   "metadata": {
    "tags": []
   },
   "outputs": [
    {
     "data": {
      "text/plain": [
       "array(['at_home', 'health', 'other', 'services', 'teacher'], dtype=object)"
      ]
     },
     "execution_count": 14,
     "metadata": {},
     "output_type": "execute_result"
    }
   ],
   "source": [
    "student_df['mother_job'].unique()"
   ]
  },
  {
   "cell_type": "code",
   "execution_count": 15,
   "id": "664d2b8b-f0b9-4f6d-8ace-fc62374c0700",
   "metadata": {
    "tags": []
   },
   "outputs": [
    {
     "data": {
      "text/plain": [
       "array(['teacher', 'other', 'services', 'health', 'at_home'], dtype=object)"
      ]
     },
     "execution_count": 15,
     "metadata": {},
     "output_type": "execute_result"
    }
   ],
   "source": [
    "\n",
    "student_df['father_job'].unique()"
   ]
  },
  {
   "cell_type": "code",
   "execution_count": 16,
   "id": "cd2777d4-a9c9-4a88-b96c-8d6024a506d5",
   "metadata": {
    "tags": []
   },
   "outputs": [
    {
     "data": {
      "text/plain": [
       "array(['Greater than 3', 'Less than or equal to 3'], dtype=object)"
      ]
     },
     "execution_count": 16,
     "metadata": {},
     "output_type": "execute_result"
    }
   ],
   "source": [
    "student_df['family_size'].unique()"
   ]
  },
  {
   "cell_type": "code",
   "execution_count": 17,
   "id": "852defa8-6fe8-4ff0-9860-1dbd8ed4b02f",
   "metadata": {
    "tags": []
   },
   "outputs": [
    {
     "data": {
      "text/plain": [
       "array(['Apart', 'Living together'], dtype=object)"
      ]
     },
     "execution_count": 17,
     "metadata": {},
     "output_type": "execute_result"
    }
   ],
   "source": [
    "student_df['parent_status'].unique()"
   ]
  },
  {
   "cell_type": "code",
   "execution_count": 18,
   "id": "87655ce2-3c62-494c-b500-15586c7409e9",
   "metadata": {
    "tags": []
   },
   "outputs": [
    {
     "data": {
      "text/plain": [
       "array(['no', 'yes'], dtype=object)"
      ]
     },
     "execution_count": 18,
     "metadata": {},
     "output_type": "execute_result"
    }
   ],
   "source": [
    "student_df['romantic_relationship'].unique()"
   ]
  },
  {
   "cell_type": "code",
   "execution_count": 19,
   "id": "6da423b1-12ae-475f-afc1-c51830ca2dfe",
   "metadata": {
    "tags": []
   },
   "outputs": [
    {
     "data": {
      "text/plain": [
       "array([18, 17, 15, 16, 19, 22, 20, 21])"
      ]
     },
     "execution_count": 19,
     "metadata": {},
     "output_type": "execute_result"
    }
   ],
   "source": [
    "student_df['age'].unique()"
   ]
  },
  {
   "cell_type": "code",
   "execution_count": 20,
   "id": "844a9391-76c0-4795-9b6a-cafb519b5598",
   "metadata": {
    "tags": []
   },
   "outputs": [
    {
     "data": {
      "text/plain": [
       "array(['Urban', 'Rural'], dtype=object)"
      ]
     },
     "execution_count": 20,
     "metadata": {},
     "output_type": "execute_result"
    }
   ],
   "source": [
    "student_df['address_type'].unique()"
   ]
  },
  {
   "cell_type": "code",
   "execution_count": 21,
   "id": "a4b99cbc-9410-4736-b784-97d5d12f64e1",
   "metadata": {
    "tags": []
   },
   "outputs": [
    {
     "data": {
      "text/plain": [
       "<Axes: xlabel='parent_status', ylabel='family_relationship'>"
      ]
     },
     "execution_count": 21,
     "metadata": {},
     "output_type": "execute_result"
    },
    {
     "data": {
      "image/png": "[encoded data removed]",
      "text/plain": [
       "<Figure size 640x480 with 1 Axes>"
      ]
     },
     "metadata": {},
     "output_type": "display_data"
    }
   ],
   "source": [
    "sns.boxplot(data=student_df, x=\"parent_status\", y=\"family_relationship\")"
   ]
  },
  {
   "cell_type": "code",
   "execution_count": 22,
   "id": "5493e1a4-8549-42b1-9793-e090e6f550e2",
   "metadata": {
    "tags": []
   },
   "outputs": [
    {
     "data": {
      "text/html": [
       "<div>\n",
       "<style scoped>\n",
       "    .dataframe tbody tr th:only-of-type {\n",
       "        vertical-align: middle;\n",
       "    }\n",
       "\n",
       "    .dataframe tbody tr th {\n",
       "        vertical-align: top;\n",
       "    }\n",
       "\n",
       "    .dataframe thead th {\n",
       "        text-align: right;\n",
       "    }\n",
       "</style>\n",
       "<table border=\"1\" class=\"dataframe\">\n",
       "  <thead>\n",
       "    <tr style=\"text-align: right;\">\n",
       "      <th></th>\n",
       "      <th>student_id</th>\n",
       "      <th>age</th>\n",
       "      <th>class_failures</th>\n",
       "      <th>family_relationship</th>\n",
       "      <th>free_time</th>\n",
       "      <th>social</th>\n",
       "      <th>weekday_alcohol</th>\n",
       "      <th>weekend_alcohol</th>\n",
       "      <th>health</th>\n",
       "      <th>absences</th>\n",
       "      <th>grade_1</th>\n",
       "      <th>grade_2</th>\n",
       "      <th>final_grade</th>\n",
       "    </tr>\n",
       "  </thead>\n",
       "  <tbody>\n",
       "    <tr>\n",
       "      <th>count</th>\n",
       "      <td>395.000000</td>\n",
       "      <td>395.000000</td>\n",
       "      <td>395.000000</td>\n",
       "      <td>395.000000</td>\n",
       "      <td>395.000000</td>\n",
       "      <td>395.000000</td>\n",
       "      <td>395.000000</td>\n",
       "      <td>395.000000</td>\n",
       "      <td>395.000000</td>\n",
       "      <td>395.000000</td>\n",
       "      <td>395.000000</td>\n",
       "      <td>395.000000</td>\n",
       "      <td>395.000000</td>\n",
       "    </tr>\n",
       "    <tr>\n",
       "      <th>mean</th>\n",
       "      <td>198.000000</td>\n",
       "      <td>16.696203</td>\n",
       "      <td>0.334177</td>\n",
       "      <td>3.944304</td>\n",
       "      <td>3.235443</td>\n",
       "      <td>3.108861</td>\n",
       "      <td>1.481013</td>\n",
       "      <td>2.291139</td>\n",
       "      <td>3.554430</td>\n",
       "      <td>5.708861</td>\n",
       "      <td>10.908861</td>\n",
       "      <td>10.713924</td>\n",
       "      <td>10.415190</td>\n",
       "    </tr>\n",
       "    <tr>\n",
       "      <th>std</th>\n",
       "      <td>114.170924</td>\n",
       "      <td>1.276043</td>\n",
       "      <td>0.743651</td>\n",
       "      <td>0.896659</td>\n",
       "      <td>0.998862</td>\n",
       "      <td>1.113278</td>\n",
       "      <td>0.890741</td>\n",
       "      <td>1.287897</td>\n",
       "      <td>1.390303</td>\n",
       "      <td>8.003096</td>\n",
       "      <td>3.319195</td>\n",
       "      <td>3.761505</td>\n",
       "      <td>4.581443</td>\n",
       "    </tr>\n",
       "    <tr>\n",
       "      <th>min</th>\n",
       "      <td>1.000000</td>\n",
       "      <td>15.000000</td>\n",
       "      <td>0.000000</td>\n",
       "      <td>1.000000</td>\n",
       "      <td>1.000000</td>\n",
       "      <td>1.000000</td>\n",
       "      <td>1.000000</td>\n",
       "      <td>1.000000</td>\n",
       "      <td>1.000000</td>\n",
       "      <td>0.000000</td>\n",
       "      <td>3.000000</td>\n",
       "      <td>0.000000</td>\n",
       "      <td>0.000000</td>\n",
       "    </tr>\n",
       "    <tr>\n",
       "      <th>25%</th>\n",
       "      <td>99.500000</td>\n",
       "      <td>16.000000</td>\n",
       "      <td>0.000000</td>\n",
       "      <td>4.000000</td>\n",
       "      <td>3.000000</td>\n",
       "      <td>2.000000</td>\n",
       "      <td>1.000000</td>\n",
       "      <td>1.000000</td>\n",
       "      <td>3.000000</td>\n",
       "      <td>0.000000</td>\n",
       "      <td>8.000000</td>\n",
       "      <td>9.000000</td>\n",
       "      <td>8.000000</td>\n",
       "    </tr>\n",
       "    <tr>\n",
       "      <th>50%</th>\n",
       "      <td>198.000000</td>\n",
       "      <td>17.000000</td>\n",
       "      <td>0.000000</td>\n",
       "      <td>4.000000</td>\n",
       "      <td>3.000000</td>\n",
       "      <td>3.000000</td>\n",
       "      <td>1.000000</td>\n",
       "      <td>2.000000</td>\n",
       "      <td>4.000000</td>\n",
       "      <td>4.000000</td>\n",
       "      <td>11.000000</td>\n",
       "      <td>11.000000</td>\n",
       "      <td>11.000000</td>\n",
       "    </tr>\n",
       "    <tr>\n",
       "      <th>75%</th>\n",
       "      <td>296.500000</td>\n",
       "      <td>18.000000</td>\n",
       "      <td>0.000000</td>\n",
       "      <td>5.000000</td>\n",
       "      <td>4.000000</td>\n",
       "      <td>4.000000</td>\n",
       "      <td>2.000000</td>\n",
       "      <td>3.000000</td>\n",
       "      <td>5.000000</td>\n",
       "      <td>8.000000</td>\n",
       "      <td>13.000000</td>\n",
       "      <td>13.000000</td>\n",
       "      <td>14.000000</td>\n",
       "    </tr>\n",
       "    <tr>\n",
       "      <th>max</th>\n",
       "      <td>395.000000</td>\n",
       "      <td>22.000000</td>\n",
       "      <td>3.000000</td>\n",
       "      <td>5.000000</td>\n",
       "      <td>5.000000</td>\n",
       "      <td>5.000000</td>\n",
       "      <td>5.000000</td>\n",
       "      <td>5.000000</td>\n",
       "      <td>5.000000</td>\n",
       "      <td>75.000000</td>\n",
       "      <td>19.000000</td>\n",
       "      <td>19.000000</td>\n",
       "      <td>20.000000</td>\n",
       "    </tr>\n",
       "  </tbody>\n",
       "</table>\n",
       "</div>"
      ],
      "text/plain": [
       "       student_id         age  class_failures  family_relationship  \\\n",
       "count  395.000000  395.000000      395.000000           395.000000   \n",
       "mean   198.000000   16.696203        0.334177             3.944304   \n",
       "std    114.170924    1.276043        0.743651             0.896659   \n",
       "min      1.000000   15.000000        0.000000             1.000000   \n",
       "25%     99.500000   16.000000        0.000000             4.000000   \n",
       "50%    198.000000   17.000000        0.000000             4.000000   \n",
       "75%    296.500000   18.000000        0.000000             5.000000   \n",
       "max    395.000000   22.000000        3.000000             5.000000   \n",
       "\n",
       "        free_time      social  weekday_alcohol  weekend_alcohol      health  \\\n",
       "count  395.000000  395.000000       395.000000       395.000000  395.000000   \n",
       "mean     3.235443    3.108861         1.481013         2.291139    3.554430   \n",
       "std      0.998862    1.113278         0.890741         1.287897    1.390303   \n",
       "min      1.000000    1.000000         1.000000         1.000000    1.000000   \n",
       "25%      3.000000    2.000000         1.000000         1.000000    3.000000   \n",
       "50%      3.000000    3.000000         1.000000         2.000000    4.000000   \n",
       "75%      4.000000    4.000000         2.000000         3.000000    5.000000   \n",
       "max      5.000000    5.000000         5.000000         5.000000    5.000000   \n",
       "\n",
       "         absences     grade_1     grade_2  final_grade  \n",
       "count  395.000000  395.000000  395.000000   395.000000  \n",
       "mean     5.708861   10.908861   10.713924    10.415190  \n",
       "std      8.003096    3.319195    3.761505     4.581443  \n",
       "min      0.000000    3.000000    0.000000     0.000000  \n",
       "25%      0.000000    8.000000    9.000000     8.000000  \n",
       "50%      4.000000   11.000000   11.000000    11.000000  \n",
       "75%      8.000000   13.000000   13.000000    14.000000  \n",
       "max     75.000000   19.000000   19.000000    20.000000  "
      ]
     },
     "execution_count": 22,
     "metadata": {},
     "output_type": "execute_result"
    }
   ],
   "source": [
    "student_df.describe()"
   ]
  },
  {
   "cell_type": "code",
   "execution_count": 23,
   "id": "d3b7e2c3-87a2-4c4b-8616-3af45e0852e0",
   "metadata": {
    "tags": []
   },
   "outputs": [
    {
     "data": {
      "text/html": [
       "<div>\n",
       "<style scoped>\n",
       "    .dataframe tbody tr th:only-of-type {\n",
       "        vertical-align: middle;\n",
       "    }\n",
       "\n",
       "    .dataframe tbody tr th {\n",
       "        vertical-align: top;\n",
       "    }\n",
       "\n",
       "    .dataframe thead th {\n",
       "        text-align: right;\n",
       "    }\n",
       "</style>\n",
       "<table border=\"1\" class=\"dataframe\">\n",
       "  <thead>\n",
       "    <tr style=\"text-align: right;\">\n",
       "      <th></th>\n",
       "      <th>weekend_alcohol</th>\n",
       "    </tr>\n",
       "    <tr>\n",
       "      <th>study_time</th>\n",
       "      <th></th>\n",
       "    </tr>\n",
       "  </thead>\n",
       "  <tbody>\n",
       "    <tr>\n",
       "      <th>2 to 5 hours</th>\n",
       "      <td>2.267677</td>\n",
       "    </tr>\n",
       "    <tr>\n",
       "      <th>5 to 10 hours</th>\n",
       "      <td>1.815385</td>\n",
       "    </tr>\n",
       "    <tr>\n",
       "      <th>&lt;2 hours</th>\n",
       "      <td>2.761905</td>\n",
       "    </tr>\n",
       "    <tr>\n",
       "      <th>&gt;10 hours</th>\n",
       "      <td>1.777778</td>\n",
       "    </tr>\n",
       "  </tbody>\n",
       "</table>\n",
       "</div>"
      ],
      "text/plain": [
       "               weekend_alcohol\n",
       "study_time                    \n",
       "2 to 5 hours          2.267677\n",
       "5 to 10 hours         1.815385\n",
       "<2 hours              2.761905\n",
       ">10 hours             1.777778"
      ]
     },
     "execution_count": 23,
     "metadata": {},
     "output_type": "execute_result"
    }
   ],
   "source": [
    "grouped = student_df.groupby('study_time')[['weekend_alcohol']].mean()\n",
    "grouped"
   ]
  },
  {
   "cell_type": "code",
   "execution_count": 27,
   "id": "37b1b993-031a-4a07-8fdd-81949ade603d",
   "metadata": {},
   "outputs": [
    {
     "data": {
      "text/plain": [
       "<Axes: xlabel='study_time', ylabel='weekend_alcohol'>"
      ]
     },
     "execution_count": 27,
     "metadata": {},
     "output_type": "execute_result"
    },
    {
     "data": {
      "image/png": "[encoded data removed]",
      "text/plain": [
       "<Figure size 640x480 with 1 Axes>"
      ]
     },
     "metadata": {},
     "output_type": "display_data"
    }
   ],
   "source": [
    "\n",
    "sns.lineplot(data=student_df, x=\"study_time\", y=\"weekend_alcohol\")"
   ]
  },
  {
   "cell_type": "code",
   "execution_count": null,
   "id": "a59aa829-52b3-487e-b06d-eba161dc64fc",
   "metadata": {},
   "outputs": [],
   "source": [
    "גהבילכק׳יבלקכ"
   ]
  },
  {
   "cell_type": "code",
   "execution_count": null,
   "id": "55550b4c-745e-49ac-9403-f87c85b76633",
   "metadata": {},
   "outputs": [],
   "source": []
  },
  {
   "cell_type": "code",
   "execution_count": null,
   "id": "a4e614d2-55fb-4938-b145-f3954d81fc89",
   "metadata": {},
   "outputs": [],
   "source": []
  },
  {
   "cell_type": "code",
   "execution_count": null,
   "id": "f72abfd2-be15-4c18-97c8-d46553af5413",
   "metadata": {},
   "outputs": [],
   "source": []
  },
  {
   "cell_type": "code",
   "execution_count": null,
   "id": "59a12f84-3e96-4588-99b9-fa6557ed3f48",
   "metadata": {},
   "outputs": [],
   "source": []
  },
  {
   "cell_type": "code",
   "execution_count": null,
   "id": "58edb7a9-db04-48aa-a42b-2edd5b2dc158",
   "metadata": {},
   "outputs": [],
   "source": []
  },
  {
   "cell_type": "code",
   "execution_count": null,
   "id": "99855144-cea1-4ad0-af8c-14fe00bc933d",
   "metadata": {},
   "outputs": [],
   "source": []
  },
  {
   "cell_type": "code",
   "execution_count": null,
   "id": "0eb3520a-e099-4813-b0fd-b77280139979",
   "metadata": {},
   "outputs": [],
   "source": []
  },
  {
   "cell_type": "code",
   "execution_count": null,
   "id": "909735c7-25ec-4e97-b977-0e33a9de6436",
   "metadata": {},
   "outputs": [],
   "source": []
  },
  {
   "cell_type": "code",
   "execution_count": null,
   "id": "5bf4b49f-a002-4ed3-bb5d-cdba686a2c82",
   "metadata": {},
   "outputs": [],
   "source": []
  },
  {
   "cell_type": "code",
   "execution_count": null,
   "id": "55dd7b51-17bc-402e-a85e-10f2c7e2c378",
   "metadata": {},
   "outputs": [],
   "source": []
  },
  {
   "cell_type": "code",
   "execution_count": null,
   "id": "4e77da52-6b75-4136-886e-7931d011856e",
   "metadata": {},
   "outputs": [],
   "source": []
  },
  {
   "cell_type": "code",
   "execution_count": null,
   "id": "d1def410-db7a-4fd7-a25e-fd289169d73e",
   "metadata": {},
   "outputs": [],
   "source": []
  },
  {
   "cell_type": "code",
   "execution_count": null,
   "id": "264d301f-06a4-4805-990b-555e8a087a4d",
   "metadata": {},
   "outputs": [],
   "source": []
  },
  {
   "cell_type": "code",
   "execution_count": null,
   "id": "eb41b685-522a-43f4-8d43-be2bef7db50b",
   "metadata": {},
   "outputs": [],
   "source": []
  },
  {
   "cell_type": "code",
   "execution_count": null,
   "id": "c3903374-6b49-43df-8252-d1dd139fbb1c",
   "metadata": {},
   "outputs": [],
   "source": []
  },
  {
   "cell_type": "code",
   "execution_count": null,
   "id": "74f19862-f0b0-408f-b8b9-8d8c43204929",
   "metadata": {},
   "outputs": [],
   "source": []
  }
 ],
 "metadata": {
  "kernelspec": {
   "display_name": "Python 3 (ipykernel)",
   "language": "python",
   "name": "python3"
  },
  "language_info": {
   "codemirror_mode": {
    "name": "ipython",
    "version": 3
   },
   "file_extension": ".py",
   "mimetype": "text/x-python",
   "name": "python",
   "nbconvert_exporter": "python",
   "pygments_lexer": "ipython3",
   "version": "3.11.5"
  }
 },
 "nbformat": 4,
 "nbformat_minor": 5
}
