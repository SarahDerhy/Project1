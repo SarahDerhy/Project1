{
 "cells": [
  {
   "cell_type": "markdown",
   "id": "e725ef51-80be-4c50-aed4-e14196c729ec",
   "metadata": {
    "tags": []
   },
   "source": [
    "# High School Student Performance and  Demographics"
   ]
  },
  {
   "cell_type": "markdown",
   "id": "cc53909f-6f1a-4aaa-8c88-5267f9a07e00",
   "metadata": {},
   "source": [
    "### Group 29"
   ]
  },
  {
   "cell_type": "markdown",
   "id": "f0e97e92-abf3-4f85-a970-d9c0a6b098fa",
   "metadata": {},
   "source": [
    "### Presented by: Sarah Derhy and Shirel Amar and Ziv Katz"
   ]
  },
  {
   "cell_type": "markdown",
   "id": "9dac9a62-60e2-4e0d-a7c6-da69bdecc278",
   "metadata": {},
   "source": [
    " #### Github link : https://www.kaggle.com/datasets/dillonmyrick/high-school-student-performance-and-demographics"
   ]
  },
  {
   "cell_type": "code",
   "execution_count": null,
   "id": "a9ccc945-46f2-433d-a473-1314eac16b99",
   "metadata": {
    "tags": []
   },
   "outputs": [],
   "source": []
  },
  {
   "cell_type": "markdown",
   "id": "4edd342b-f2e9-4fdc-8b20-2a8a7254f5af",
   "metadata": {},
   "source": [
    "###  Reading data"
   ]
  },
  {
   "cell_type": "code",
   "execution_count": 1,
   "id": "bfe560e8-447d-414b-b77d-d434d88785f9",
   "metadata": {
    "tags": []
   },
   "outputs": [
    {
     "name": "stderr",
     "output_type": "stream",
     "text": [
      "/Users/shirelamar/anaconda3/lib/python3.11/site-packages/pandas/core/arrays/masked.py:60: UserWarning: Pandas requires version '1.3.6' or newer of 'bottleneck' (version '1.3.5' currently installed).\n",
      "  from pandas.core import (\n"
     ]
    }
   ],
   "source": [
    "import pandas as pd\n",
    "import seaborn as sns\n",
    "import geopandas as gpd\n",
    "import matplotlib.pyplot as plt\n",
    "import numpy as np\n",
    "import requests\n",
    "from IPython.display import Image\n",
    "from matplotlib.patches import Patch\n",
    "import matplotlib.patches as mpatches\n",
    "from matplotlib.lines import Line2D"
   ]
  },
  {
   "cell_type": "code",
   "execution_count": null,
   "id": "19268265-0dcd-43f8-b64c-2d0fe25e5157",
   "metadata": {},
   "outputs": [],
   "source": []
  },
  {
   "cell_type": "code",
   "execution_count": 2,
   "id": "52895222-4970-4053-a798-7fbb8d5a71e7",
   "metadata": {
    "tags": []
   },
   "outputs": [],
   "source": [
    "url= 'https://raw.githubusercontent.com/SarahDerhy/Project1/main/student_math_clean.csv'\n",
    "student_df = pd.read_csv(url)"
   ]
  },
  {
   "cell_type": "code",
   "execution_count": 3,
   "id": "5ee50d23-b585-4d50-a6c1-edcafc680637",
   "metadata": {
    "tags": []
   },
   "outputs": [],
   "source": [
    "student_df=student_df.copy()"
   ]
  },
  {
   "cell_type": "code",
   "execution_count": 4,
   "id": "bc8560e9-001c-4a6c-8249-6772a0358a49",
   "metadata": {
    "tags": []
   },
   "outputs": [
    {
     "data": {
      "text/html": [
       "<div>\n",
       "<style scoped>\n",
       "    .dataframe tbody tr th:only-of-type {\n",
       "        vertical-align: middle;\n",
       "    }\n",
       "\n",
       "    .dataframe tbody tr th {\n",
       "        vertical-align: top;\n",
       "    }\n",
       "\n",
       "    .dataframe thead th {\n",
       "        text-align: right;\n",
       "    }\n",
       "</style>\n",
       "<table border=\"1\" class=\"dataframe\">\n",
       "  <thead>\n",
       "    <tr style=\"text-align: right;\">\n",
       "      <th></th>\n",
       "      <th>student_id</th>\n",
       "      <th>school</th>\n",
       "      <th>sex</th>\n",
       "      <th>age</th>\n",
       "      <th>address_type</th>\n",
       "      <th>family_size</th>\n",
       "      <th>parent_status</th>\n",
       "      <th>mother_education</th>\n",
       "      <th>father_education</th>\n",
       "      <th>mother_job</th>\n",
       "      <th>...</th>\n",
       "      <th>family_relationship</th>\n",
       "      <th>free_time</th>\n",
       "      <th>social</th>\n",
       "      <th>weekday_alcohol</th>\n",
       "      <th>weekend_alcohol</th>\n",
       "      <th>health</th>\n",
       "      <th>absences</th>\n",
       "      <th>grade_1</th>\n",
       "      <th>grade_2</th>\n",
       "      <th>final_grade</th>\n",
       "    </tr>\n",
       "  </thead>\n",
       "  <tbody>\n",
       "    <tr>\n",
       "      <th>0</th>\n",
       "      <td>1</td>\n",
       "      <td>GP</td>\n",
       "      <td>F</td>\n",
       "      <td>18</td>\n",
       "      <td>Urban</td>\n",
       "      <td>Greater than 3</td>\n",
       "      <td>Apart</td>\n",
       "      <td>higher education</td>\n",
       "      <td>higher education</td>\n",
       "      <td>at_home</td>\n",
       "      <td>...</td>\n",
       "      <td>4</td>\n",
       "      <td>3</td>\n",
       "      <td>4</td>\n",
       "      <td>1</td>\n",
       "      <td>1</td>\n",
       "      <td>3</td>\n",
       "      <td>6</td>\n",
       "      <td>5</td>\n",
       "      <td>6</td>\n",
       "      <td>6</td>\n",
       "    </tr>\n",
       "    <tr>\n",
       "      <th>1</th>\n",
       "      <td>2</td>\n",
       "      <td>GP</td>\n",
       "      <td>F</td>\n",
       "      <td>17</td>\n",
       "      <td>Urban</td>\n",
       "      <td>Greater than 3</td>\n",
       "      <td>Living together</td>\n",
       "      <td>primary education (4th grade)</td>\n",
       "      <td>primary education (4th grade)</td>\n",
       "      <td>at_home</td>\n",
       "      <td>...</td>\n",
       "      <td>5</td>\n",
       "      <td>3</td>\n",
       "      <td>3</td>\n",
       "      <td>1</td>\n",
       "      <td>1</td>\n",
       "      <td>3</td>\n",
       "      <td>4</td>\n",
       "      <td>5</td>\n",
       "      <td>5</td>\n",
       "      <td>6</td>\n",
       "    </tr>\n",
       "    <tr>\n",
       "      <th>2</th>\n",
       "      <td>3</td>\n",
       "      <td>GP</td>\n",
       "      <td>F</td>\n",
       "      <td>15</td>\n",
       "      <td>Urban</td>\n",
       "      <td>Less than or equal to 3</td>\n",
       "      <td>Living together</td>\n",
       "      <td>primary education (4th grade)</td>\n",
       "      <td>primary education (4th grade)</td>\n",
       "      <td>at_home</td>\n",
       "      <td>...</td>\n",
       "      <td>4</td>\n",
       "      <td>3</td>\n",
       "      <td>2</td>\n",
       "      <td>2</td>\n",
       "      <td>3</td>\n",
       "      <td>3</td>\n",
       "      <td>10</td>\n",
       "      <td>7</td>\n",
       "      <td>8</td>\n",
       "      <td>10</td>\n",
       "    </tr>\n",
       "    <tr>\n",
       "      <th>3</th>\n",
       "      <td>4</td>\n",
       "      <td>GP</td>\n",
       "      <td>F</td>\n",
       "      <td>15</td>\n",
       "      <td>Urban</td>\n",
       "      <td>Greater than 3</td>\n",
       "      <td>Living together</td>\n",
       "      <td>higher education</td>\n",
       "      <td>5th to 9th grade</td>\n",
       "      <td>health</td>\n",
       "      <td>...</td>\n",
       "      <td>3</td>\n",
       "      <td>2</td>\n",
       "      <td>2</td>\n",
       "      <td>1</td>\n",
       "      <td>1</td>\n",
       "      <td>5</td>\n",
       "      <td>2</td>\n",
       "      <td>15</td>\n",
       "      <td>14</td>\n",
       "      <td>15</td>\n",
       "    </tr>\n",
       "    <tr>\n",
       "      <th>4</th>\n",
       "      <td>5</td>\n",
       "      <td>GP</td>\n",
       "      <td>F</td>\n",
       "      <td>16</td>\n",
       "      <td>Urban</td>\n",
       "      <td>Greater than 3</td>\n",
       "      <td>Living together</td>\n",
       "      <td>secondary education</td>\n",
       "      <td>secondary education</td>\n",
       "      <td>other</td>\n",
       "      <td>...</td>\n",
       "      <td>4</td>\n",
       "      <td>3</td>\n",
       "      <td>2</td>\n",
       "      <td>1</td>\n",
       "      <td>2</td>\n",
       "      <td>5</td>\n",
       "      <td>4</td>\n",
       "      <td>6</td>\n",
       "      <td>10</td>\n",
       "      <td>10</td>\n",
       "    </tr>\n",
       "  </tbody>\n",
       "</table>\n",
       "<p>5 rows × 34 columns</p>\n",
       "</div>"
      ],
      "text/plain": [
       "   student_id school sex  age address_type              family_size  \\\n",
       "0           1     GP   F   18        Urban           Greater than 3   \n",
       "1           2     GP   F   17        Urban           Greater than 3   \n",
       "2           3     GP   F   15        Urban  Less than or equal to 3   \n",
       "3           4     GP   F   15        Urban           Greater than 3   \n",
       "4           5     GP   F   16        Urban           Greater than 3   \n",
       "\n",
       "     parent_status               mother_education  \\\n",
       "0            Apart               higher education   \n",
       "1  Living together  primary education (4th grade)   \n",
       "2  Living together  primary education (4th grade)   \n",
       "3  Living together               higher education   \n",
       "4  Living together            secondary education   \n",
       "\n",
       "                father_education mother_job  ... family_relationship  \\\n",
       "0               higher education    at_home  ...                   4   \n",
       "1  primary education (4th grade)    at_home  ...                   5   \n",
       "2  primary education (4th grade)    at_home  ...                   4   \n",
       "3               5th to 9th grade     health  ...                   3   \n",
       "4            secondary education      other  ...                   4   \n",
       "\n",
       "  free_time social weekday_alcohol weekend_alcohol  health absences grade_1  \\\n",
       "0         3      4               1               1       3        6       5   \n",
       "1         3      3               1               1       3        4       5   \n",
       "2         3      2               2               3       3       10       7   \n",
       "3         2      2               1               1       5        2      15   \n",
       "4         3      2               1               2       5        4       6   \n",
       "\n",
       "  grade_2 final_grade  \n",
       "0       6           6  \n",
       "1       5           6  \n",
       "2       8          10  \n",
       "3      14          15  \n",
       "4      10          10  \n",
       "\n",
       "[5 rows x 34 columns]"
      ]
     },
     "execution_count": 4,
     "metadata": {},
     "output_type": "execute_result"
    }
   ],
   "source": [
    "student_df.head()"
   ]
  },
  {
   "cell_type": "code",
   "execution_count": 5,
   "id": "2a316f92-eb9e-4b0e-a939-e84705976dde",
   "metadata": {
    "tags": []
   },
   "outputs": [
    {
     "data": {
      "text/plain": [
       "(395, 34)"
      ]
     },
     "execution_count": 5,
     "metadata": {},
     "output_type": "execute_result"
    }
   ],
   "source": [
    "student_df.shape"
   ]
  },
  {
   "cell_type": "code",
   "execution_count": 6,
   "id": "66d629fd-e362-474b-9cf5-cbb052831637",
   "metadata": {
    "tags": []
   },
   "outputs": [
    {
     "data": {
      "text/html": [
       "<div>\n",
       "<style scoped>\n",
       "    .dataframe tbody tr th:only-of-type {\n",
       "        vertical-align: middle;\n",
       "    }\n",
       "\n",
       "    .dataframe tbody tr th {\n",
       "        vertical-align: top;\n",
       "    }\n",
       "\n",
       "    .dataframe thead th {\n",
       "        text-align: right;\n",
       "    }\n",
       "</style>\n",
       "<table border=\"1\" class=\"dataframe\">\n",
       "  <thead>\n",
       "    <tr style=\"text-align: right;\">\n",
       "      <th></th>\n",
       "      <th>nulls</th>\n",
       "    </tr>\n",
       "  </thead>\n",
       "  <tbody>\n",
       "    <tr>\n",
       "      <th>student_id</th>\n",
       "      <td>0</td>\n",
       "    </tr>\n",
       "    <tr>\n",
       "      <th>school</th>\n",
       "      <td>0</td>\n",
       "    </tr>\n",
       "    <tr>\n",
       "      <th>sex</th>\n",
       "      <td>0</td>\n",
       "    </tr>\n",
       "    <tr>\n",
       "      <th>age</th>\n",
       "      <td>0</td>\n",
       "    </tr>\n",
       "    <tr>\n",
       "      <th>address_type</th>\n",
       "      <td>0</td>\n",
       "    </tr>\n",
       "    <tr>\n",
       "      <th>family_size</th>\n",
       "      <td>0</td>\n",
       "    </tr>\n",
       "    <tr>\n",
       "      <th>parent_status</th>\n",
       "      <td>0</td>\n",
       "    </tr>\n",
       "    <tr>\n",
       "      <th>mother_education</th>\n",
       "      <td>0</td>\n",
       "    </tr>\n",
       "    <tr>\n",
       "      <th>father_education</th>\n",
       "      <td>0</td>\n",
       "    </tr>\n",
       "    <tr>\n",
       "      <th>mother_job</th>\n",
       "      <td>0</td>\n",
       "    </tr>\n",
       "    <tr>\n",
       "      <th>father_job</th>\n",
       "      <td>0</td>\n",
       "    </tr>\n",
       "    <tr>\n",
       "      <th>school_choice_reason</th>\n",
       "      <td>0</td>\n",
       "    </tr>\n",
       "    <tr>\n",
       "      <th>guardian</th>\n",
       "      <td>0</td>\n",
       "    </tr>\n",
       "    <tr>\n",
       "      <th>travel_time</th>\n",
       "      <td>0</td>\n",
       "    </tr>\n",
       "    <tr>\n",
       "      <th>study_time</th>\n",
       "      <td>0</td>\n",
       "    </tr>\n",
       "    <tr>\n",
       "      <th>class_failures</th>\n",
       "      <td>0</td>\n",
       "    </tr>\n",
       "    <tr>\n",
       "      <th>school_support</th>\n",
       "      <td>0</td>\n",
       "    </tr>\n",
       "    <tr>\n",
       "      <th>family_support</th>\n",
       "      <td>0</td>\n",
       "    </tr>\n",
       "    <tr>\n",
       "      <th>extra_paid_classes</th>\n",
       "      <td>0</td>\n",
       "    </tr>\n",
       "    <tr>\n",
       "      <th>activities</th>\n",
       "      <td>0</td>\n",
       "    </tr>\n",
       "    <tr>\n",
       "      <th>nursery_school</th>\n",
       "      <td>0</td>\n",
       "    </tr>\n",
       "    <tr>\n",
       "      <th>higher_ed</th>\n",
       "      <td>0</td>\n",
       "    </tr>\n",
       "    <tr>\n",
       "      <th>internet_access</th>\n",
       "      <td>0</td>\n",
       "    </tr>\n",
       "    <tr>\n",
       "      <th>romantic_relationship</th>\n",
       "      <td>0</td>\n",
       "    </tr>\n",
       "    <tr>\n",
       "      <th>family_relationship</th>\n",
       "      <td>0</td>\n",
       "    </tr>\n",
       "    <tr>\n",
       "      <th>free_time</th>\n",
       "      <td>0</td>\n",
       "    </tr>\n",
       "    <tr>\n",
       "      <th>social</th>\n",
       "      <td>0</td>\n",
       "    </tr>\n",
       "    <tr>\n",
       "      <th>weekday_alcohol</th>\n",
       "      <td>0</td>\n",
       "    </tr>\n",
       "    <tr>\n",
       "      <th>weekend_alcohol</th>\n",
       "      <td>0</td>\n",
       "    </tr>\n",
       "    <tr>\n",
       "      <th>health</th>\n",
       "      <td>0</td>\n",
       "    </tr>\n",
       "    <tr>\n",
       "      <th>absences</th>\n",
       "      <td>0</td>\n",
       "    </tr>\n",
       "    <tr>\n",
       "      <th>grade_1</th>\n",
       "      <td>0</td>\n",
       "    </tr>\n",
       "    <tr>\n",
       "      <th>grade_2</th>\n",
       "      <td>0</td>\n",
       "    </tr>\n",
       "    <tr>\n",
       "      <th>final_grade</th>\n",
       "      <td>0</td>\n",
       "    </tr>\n",
       "  </tbody>\n",
       "</table>\n",
       "</div>"
      ],
      "text/plain": [
       "                       nulls\n",
       "student_id                 0\n",
       "school                     0\n",
       "sex                        0\n",
       "age                        0\n",
       "address_type               0\n",
       "family_size                0\n",
       "parent_status              0\n",
       "mother_education           0\n",
       "father_education           0\n",
       "mother_job                 0\n",
       "father_job                 0\n",
       "school_choice_reason       0\n",
       "guardian                   0\n",
       "travel_time                0\n",
       "study_time                 0\n",
       "class_failures             0\n",
       "school_support             0\n",
       "family_support             0\n",
       "extra_paid_classes         0\n",
       "activities                 0\n",
       "nursery_school             0\n",
       "higher_ed                  0\n",
       "internet_access            0\n",
       "romantic_relationship      0\n",
       "family_relationship        0\n",
       "free_time                  0\n",
       "social                     0\n",
       "weekday_alcohol            0\n",
       "weekend_alcohol            0\n",
       "health                     0\n",
       "absences                   0\n",
       "grade_1                    0\n",
       "grade_2                    0\n",
       "final_grade                0"
      ]
     },
     "execution_count": 6,
     "metadata": {},
     "output_type": "execute_result"
    }
   ],
   "source": [
    "student_df.isnull().sum().to_frame('nulls')"
   ]
  },
  {
   "cell_type": "markdown",
   "id": "87555610-227b-466a-8a71-20d3c94e5400",
   "metadata": {},
   "source": [
    "#### There is no missing values in our file"
   ]
  },
  {
   "cell_type": "code",
   "execution_count": 7,
   "id": "22f6c019-115e-40f3-81c5-6c6be8a33da3",
   "metadata": {
    "tags": []
   },
   "outputs": [
    {
     "data": {
      "text/plain": [
       "student_id                int64\n",
       "school                   object\n",
       "sex                      object\n",
       "age                       int64\n",
       "address_type             object\n",
       "family_size              object\n",
       "parent_status            object\n",
       "mother_education         object\n",
       "father_education         object\n",
       "mother_job               object\n",
       "father_job               object\n",
       "school_choice_reason     object\n",
       "guardian                 object\n",
       "travel_time              object\n",
       "study_time               object\n",
       "class_failures            int64\n",
       "school_support           object\n",
       "family_support           object\n",
       "extra_paid_classes       object\n",
       "activities               object\n",
       "nursery_school           object\n",
       "higher_ed                object\n",
       "internet_access          object\n",
       "romantic_relationship    object\n",
       "family_relationship       int64\n",
       "free_time                 int64\n",
       "social                    int64\n",
       "weekday_alcohol           int64\n",
       "weekend_alcohol           int64\n",
       "health                    int64\n",
       "absences                  int64\n",
       "grade_1                   int64\n",
       "grade_2                   int64\n",
       "final_grade               int64\n",
       "dtype: object"
      ]
     },
     "execution_count": 7,
     "metadata": {},
     "output_type": "execute_result"
    }
   ],
   "source": [
    "student_df.dtypes"
   ]
  },
  {
   "cell_type": "code",
   "execution_count": 8,
   "id": "4b15c5c2-32d3-439d-93db-7383c79de1b6",
   "metadata": {
    "tags": []
   },
   "outputs": [
    {
     "data": {
      "text/plain": [
       "Index(['student_id', 'school', 'sex', 'age', 'address_type', 'family_size',\n",
       "       'parent_status', 'mother_education', 'father_education', 'mother_job',\n",
       "       'father_job', 'school_choice_reason', 'guardian', 'travel_time',\n",
       "       'study_time', 'class_failures', 'school_support', 'family_support',\n",
       "       'extra_paid_classes', 'activities', 'nursery_school', 'higher_ed',\n",
       "       'internet_access', 'romantic_relationship', 'family_relationship',\n",
       "       'free_time', 'social', 'weekday_alcohol', 'weekend_alcohol', 'health',\n",
       "       'absences', 'grade_1', 'grade_2', 'final_grade'],\n",
       "      dtype='object')"
      ]
     },
     "execution_count": 8,
     "metadata": {},
     "output_type": "execute_result"
    }
   ],
   "source": [
    "student_df.columns"
   ]
  },
  {
   "cell_type": "markdown",
   "id": "c728bef4-8a00-4c3a-a689-9d0bdeabe411",
   "metadata": {},
   "source": [
    "## 1 - The impact of school support on aspirations to pursue higher education"
   ]
  },
  {
   "cell_type": "code",
   "execution_count": 9,
   "id": "ff79e489-74f0-442e-8b8c-f13dfcfdc211",
   "metadata": {
    "tags": []
   },
   "outputs": [
    {
     "data": {
      "text/plain": [
       "<Axes: xlabel='final_grade', ylabel='count'>"
      ]
     },
     "execution_count": 9,
     "metadata": {},
     "output_type": "execute_result"
    },
    {
     "data": {
      "image/png": "[encoded data removed]",
      "text/plain": [
       "<Figure size 1500x500 with 1 Axes>"
      ]
     },
     "metadata": {},
     "output_type": "display_data"
    }
   ],
   "source": [
    "fig, axes = plt.subplots(figsize=(15, 5))\n",
    "sns.countplot(data=student_df, x='final_grade')\n"
   ]
  },
  {
   "cell_type": "markdown",
   "id": "d0e5052f-1a7e-46df-b6ee-ec98a8c52c69",
   "metadata": {},
   "source": [
    "### We can see the distribution among all final grades. We're going to take a look on the students who failed their test (under 10)."
   ]
  },
  {
   "cell_type": "code",
   "execution_count": 10,
   "id": "fc22f985-8ae7-402f-9fea-0fccc6ae498a",
   "metadata": {
    "tags": []
   },
   "outputs": [],
   "source": [
    "low_grade=student_df[student_df['final_grade']<10]"
   ]
  },
  {
   "cell_type": "code",
   "execution_count": 11,
   "id": "55eb8b66-b9d9-48f7-934e-4804e6c8972e",
   "metadata": {
    "tags": []
   },
   "outputs": [
    {
     "data": {
      "text/html": [
       "<div>\n",
       "<style scoped>\n",
       "    .dataframe tbody tr th:only-of-type {\n",
       "        vertical-align: middle;\n",
       "    }\n",
       "\n",
       "    .dataframe tbody tr th {\n",
       "        vertical-align: top;\n",
       "    }\n",
       "\n",
       "    .dataframe thead th {\n",
       "        text-align: right;\n",
       "    }\n",
       "</style>\n",
       "<table border=\"1\" class=\"dataframe\">\n",
       "  <thead>\n",
       "    <tr style=\"text-align: right;\">\n",
       "      <th></th>\n",
       "      <th>AtLeastTwoYes</th>\n",
       "    </tr>\n",
       "  </thead>\n",
       "  <tbody>\n",
       "    <tr>\n",
       "      <th>0</th>\n",
       "      <td>No</td>\n",
       "    </tr>\n",
       "    <tr>\n",
       "      <th>1</th>\n",
       "      <td>No</td>\n",
       "    </tr>\n",
       "    <tr>\n",
       "      <th>2</th>\n",
       "      <td>Yes</td>\n",
       "    </tr>\n",
       "    <tr>\n",
       "      <th>3</th>\n",
       "      <td>Yes</td>\n",
       "    </tr>\n",
       "    <tr>\n",
       "      <th>4</th>\n",
       "      <td>No</td>\n",
       "    </tr>\n",
       "    <tr>\n",
       "      <th>...</th>\n",
       "      <td>...</td>\n",
       "    </tr>\n",
       "    <tr>\n",
       "      <th>390</th>\n",
       "      <td>No</td>\n",
       "    </tr>\n",
       "    <tr>\n",
       "      <th>391</th>\n",
       "      <td>No</td>\n",
       "    </tr>\n",
       "    <tr>\n",
       "      <th>392</th>\n",
       "      <td>No</td>\n",
       "    </tr>\n",
       "    <tr>\n",
       "      <th>393</th>\n",
       "      <td>No</td>\n",
       "    </tr>\n",
       "    <tr>\n",
       "      <th>394</th>\n",
       "      <td>No</td>\n",
       "    </tr>\n",
       "  </tbody>\n",
       "</table>\n",
       "<p>395 rows × 1 columns</p>\n",
       "</div>"
      ],
      "text/plain": [
       "    AtLeastTwoYes\n",
       "0              No\n",
       "1              No\n",
       "2             Yes\n",
       "3             Yes\n",
       "4              No\n",
       "..            ...\n",
       "390            No\n",
       "391            No\n",
       "392            No\n",
       "393            No\n",
       "394            No\n",
       "\n",
       "[395 rows x 1 columns]"
      ]
     },
     "execution_count": 11,
     "metadata": {},
     "output_type": "execute_result"
    }
   ],
   "source": [
    "student_df['AtLeastTwoYes'] = student_df[['extra_paid_classes', 'school_support', 'internet_access']].apply(lambda x: 'Yes' if (x == 'yes').sum() >= 2 else 'No', axis=1)\n",
    "student_df[['AtLeastTwoYes']]"
   ]
  },
  {
   "cell_type": "markdown",
   "id": "b480dd93-1d9e-401a-91c2-575145790ddb",
   "metadata": {},
   "source": [
    "Here we used ChatGPT to create a fonction who will add to our new column \"Yes\" if the student has acces to at least 2 extra tutoring (School tutoring, extra paid class, access to internet) or \"No\" if not."
   ]
  },
  {
   "cell_type": "code",
   "execution_count": 12,
   "id": "6b2aad3e-0eeb-49f2-be5b-2fcdff97c964",
   "metadata": {
    "tags": []
   },
   "outputs": [
    {
     "data": {
      "image/png": "[encoded data removed]",
      "text/plain": [
       "<Figure size 640x480 with 1 Axes>"
      ]
     },
     "metadata": {},
     "output_type": "display_data"
    }
   ],
   "source": [
    "sns.violinplot(y=\"final_grade\", x=\"AtLeastTwoYes\", data=student_df, order= [\"Yes\", \"No\"], palette='BuPu')\n",
    "plt.xlabel(\"At least two extra support\")\n",
    "plt.show()"
   ]
  },
  {
   "cell_type": "markdown",
   "id": "74322d8f-f176-4102-a8d9-8f2d89818f02",
   "metadata": {},
   "source": [
    "### The graph shows the distribution of students' final grades based on their extra tutoring access. The distributions is represented by violins indicating the density of final grades, where the wider parts of the violins represent an higher concentration of grades in that range."
   ]
  },
  {
   "cell_type": "code",
   "execution_count": null,
   "id": "ce9fa7bb-36db-4dce-a99e-0518a6781574",
   "metadata": {
    "tags": []
   },
   "outputs": [],
   "source": []
  },
  {
   "cell_type": "code",
   "execution_count": null,
   "id": "733362a8-d267-4e22-afdb-a35b2a4c7575",
   "metadata": {
    "tags": []
   },
   "outputs": [],
   "source": []
  },
  {
   "cell_type": "code",
   "execution_count": 13,
   "id": "5d9d3ac9-9920-4a10-8c9b-f24cb9874db6",
   "metadata": {
    "tags": []
   },
   "outputs": [],
   "source": [
    "study_time_order = [\"<2 hours\", \"2 to 5 hours\", \"5 to 10 hours\", \">10 hours\"]"
   ]
  },
  {
   "cell_type": "code",
   "execution_count": 14,
   "id": "10593c73-6c9e-4faa-b766-a742cc9772ff",
   "metadata": {
    "tags": []
   },
   "outputs": [
    {
     "data": {
      "image/png": "[encoded data removed]",
      "text/plain": [
       "<Figure size 1500x600 with 2 Axes>"
      ]
     },
     "metadata": {},
     "output_type": "display_data"
    }
   ],
   "source": [
    "fig, ax = plt.subplots(1, 2, figsize=(15, 6))\n",
    "\n",
    "sns.barplot(x=\"AtLeastTwoYes\", y=\"final_grade\", hue=\"social\", errorbar=None, data=student_df, ax=ax[0],order= [\"Yes\", \"No\"],palette='muted')\n",
    "ax[0].set_xlabel(\"Access to extra support ?\")\n",
    "ax[0].set_ylabel(\"Final grade\")\n",
    "ax[0].set_title(\"Influence of extra support and social time on final grade\")\n",
    "ax[0].legend(title= \"Social time\", loc='upper right', bbox_to_anchor=(1.25, 1)) \n",
    "\n",
    "\n",
    "sns.barplot(x=\"AtLeastTwoYes\", y=\"final_grade\", hue=\"study_time\", errorbar=None, data=student_df,hue_order= study_time_order ,ax=ax[1],order= [\"Yes\", \"No\"],palette='muted')\n",
    "ax[1].set_xlabel(\"Access to extra support ?\")\n",
    "ax[1].set_ylabel(\"Final grade\")\n",
    "ax[1].set_title(\"Influence of extra support and study time on final grade\")\n",
    "ax[1].legend(title= \"Study time\", loc='upper right', bbox_to_anchor=(1.35, 1))\n",
    "\n",
    "\n",
    "plt.subplots_adjust(wspace=0.5)\n",
    "\n",
    "plt.show()\n"
   ]
  },
  {
   "cell_type": "markdown",
   "id": "bb6a8857-3cc5-4eb0-8a93-5e0c754c0e61",
   "metadata": {},
   "source": [
    "### We see that study or social time do not always influence directly on final grade. We want to look deeper to see if something else comes into play. We focused on people who received 0 to their exam and have no extra support to understand more."
   ]
  },
  {
   "cell_type": "code",
   "execution_count": 15,
   "id": "81229e39-6839-45fa-b3ad-991140d0ea33",
   "metadata": {
    "tags": []
   },
   "outputs": [
    {
     "data": {
      "text/plain": [
       "(38, 35)"
      ]
     },
     "execution_count": 15,
     "metadata": {},
     "output_type": "execute_result"
    }
   ],
   "source": [
    "filtered_zero_df =student_df[(student_df['final_grade'] == 0)]\n",
    "filtered_zero_df.shape\n",
    "\n"
   ]
  },
  {
   "cell_type": "markdown",
   "id": "07f6b924-4972-46d8-ae80-23c5e53153f1",
   "metadata": {},
   "source": [
    "### People who received 0 to their exam represent 10% of our students, which is a significant percentage."
   ]
  },
  {
   "cell_type": "code",
   "execution_count": 16,
   "id": "5e755fae-ad18-4288-8633-977928c11cd9",
   "metadata": {
    "tags": []
   },
   "outputs": [],
   "source": [
    "study_time_mapp={\"2 hours\":1,\"2 to 5 hours\":2, \"5 to 10 hours\":3, \">10 hours\":4}\n",
    "student_df[\"study_time_num\"]= student_df[\"study_time\"].map(study_time_mapp)\n"
   ]
  },
  {
   "cell_type": "code",
   "execution_count": 17,
   "id": "996d1f8b-dd33-438b-af10-e0829a9b5cf7",
   "metadata": {
    "tags": []
   },
   "outputs": [],
   "source": [
    "filtered_zero_no_df = student_df[(student_df['AtLeastTwoYes'] == 'No') & (student_df['final_grade']== 0)]\n",
    "filtered_zero_yes_df = student_df[(student_df['AtLeastTwoYes'] == 'Yes') & (student_df['final_grade']==0 )]\n"
   ]
  },
  {
   "cell_type": "code",
   "execution_count": 18,
   "id": "9bcdf1e5-c0e7-462c-8936-1856e4bcc652",
   "metadata": {
    "tags": []
   },
   "outputs": [
    {
     "data": {
      "image/png": "[encoded data removed]",
      "text/plain": [
       "<Figure size 1200x1000 with 4 Axes>"
      ]
     },
     "metadata": {},
     "output_type": "display_data"
    }
   ],
   "source": [
    "fig, ax = plt.subplots(2, 2, figsize=(12, 10))\n",
    "\n",
    "\n",
    "sns.boxplot( x = \"higher_ed\", y = \"social\", data=filtered_zero_no_df, ax=ax[0,0],palette='husl')\n",
    "sns.boxplot(x = \"higher_ed\", y = \"social\",data=filtered_zero_yes_df, ax=ax[0,1],palette='Set1')\n",
    "sns.boxplot( x = \"higher_ed\", y = \"study_time_num\",data= filtered_zero_no_df, ax=ax[1,0],palette='husl')\n",
    "sns.boxplot( x = \"higher_ed\", y = \"study_time_num\",data= filtered_zero_yes_df, ax=ax[1,1],palette='Set1') \n",
    "\n",
    "plt.subplots_adjust(wspace=2)\n",
    "plt.subplots_adjust(hspace=0.3)\n",
    "\n",
    "ax[0,0].set_xlabel('Access to extra support ?')\n",
    "ax[0,1].set_xlabel('Access to extra support ?')\n",
    "ax[1,0].set_xlabel('Access to extra support ?')\n",
    "ax[1,1].set_xlabel('Access to extra support ?')\n",
    "\n",
    "ax[0,0].set_ylabel(\"Social\")\n",
    "ax[0,1].set_ylabel(\"Social\")\n",
    "ax[1,0].set_ylabel(\"Study Time\")\n",
    "ax[1,1].set_ylabel(\"Study Time\")\n",
    "\n",
    "ax[0,0].set_title(\"Interested in an higher education ?\")\n",
    "ax[0,1].set_title(\"Interested in an higher education ?\")\n",
    "ax[1,0].set_title(\"Interested in an higher education ?\")\n",
    "ax[1,1].set_title(\"Interested in an higher education ?\")\n",
    "\n",
    "\n",
    "plt.show()"
   ]
  },
  {
   "cell_type": "markdown",
   "id": "b22eb3ec-491f-4b58-abf9-d6f7bc6c9e79",
   "metadata": {},
   "source": [
    "### Conclusion 1: The graphs show that students with at least two extra tutoring  are all motivated to pursue higher education, even with grades of 0. By contrast, those without aids are not all so willing, and spend more time going out than working.\n",
    "\n",
    "### To sum up:\n",
    "### -Without extra support: Less inclined to study and spend more time going out.\n",
    "### -With extra support: Motivated to study and study more.\n",
    "### Willingness to pursue higher education therefore seems to be a key factor in  motivation to success."
   ]
  },
  {
   "cell_type": "markdown",
   "id": "4c58ee1b-27fd-49f3-b87b-d3fa61a9004c",
   "metadata": {
    "tags": []
   },
   "source": [
    "#### After comparing the data we have, and the potential academic and social factors, we can see that academic factors do not influence the final grade. however, social factors have a more significant influence on our students' grades."
   ]
  },
  {
   "cell_type": "markdown",
   "id": "3d198007-382d-4599-916a-a7b5ab7e0538",
   "metadata": {},
   "source": [
    "## 2 - The repercussions of alcohol on class failures among minors."
   ]
  },
  {
   "cell_type": "markdown",
   "id": "41f43515-e042-4257-80a7-81d9f6e4c388",
   "metadata": {},
   "source": [
    "#### In this section we look at the impact of alcohol on minors."
   ]
  },
  {
   "cell_type": "code",
   "execution_count": 19,
   "id": "2a786bda-9449-4563-afa5-d54245a54399",
   "metadata": {
    "tags": []
   },
   "outputs": [],
   "source": [
    "minor= student_df[(student_df['age'] < 18)]"
   ]
  },
  {
   "cell_type": "code",
   "execution_count": 25,
   "id": "28a86ac6-32e5-4042-9971-8a2bbb05d74d",
   "metadata": {
    "tags": []
   },
   "outputs": [
    {
     "data": {
      "text/html": [
       "<div>\n",
       "<style scoped>\n",
       "    .dataframe tbody tr th:only-of-type {\n",
       "        vertical-align: middle;\n",
       "    }\n",
       "\n",
       "    .dataframe tbody tr th {\n",
       "        vertical-align: top;\n",
       "    }\n",
       "\n",
       "    .dataframe thead th {\n",
       "        text-align: right;\n",
       "    }\n",
       "</style>\n",
       "<table border=\"1\" class=\"dataframe\">\n",
       "  <thead>\n",
       "    <tr style=\"text-align: right;\">\n",
       "      <th></th>\n",
       "      <th>total_alcohol</th>\n",
       "    </tr>\n",
       "  </thead>\n",
       "  <tbody>\n",
       "    <tr>\n",
       "      <th>0</th>\n",
       "      <td>1.0</td>\n",
       "    </tr>\n",
       "    <tr>\n",
       "      <th>1</th>\n",
       "      <td>1.0</td>\n",
       "    </tr>\n",
       "    <tr>\n",
       "      <th>2</th>\n",
       "      <td>2.5</td>\n",
       "    </tr>\n",
       "    <tr>\n",
       "      <th>3</th>\n",
       "      <td>1.0</td>\n",
       "    </tr>\n",
       "    <tr>\n",
       "      <th>4</th>\n",
       "      <td>1.5</td>\n",
       "    </tr>\n",
       "    <tr>\n",
       "      <th>...</th>\n",
       "      <td>...</td>\n",
       "    </tr>\n",
       "    <tr>\n",
       "      <th>390</th>\n",
       "      <td>4.5</td>\n",
       "    </tr>\n",
       "    <tr>\n",
       "      <th>391</th>\n",
       "      <td>3.5</td>\n",
       "    </tr>\n",
       "    <tr>\n",
       "      <th>392</th>\n",
       "      <td>3.0</td>\n",
       "    </tr>\n",
       "    <tr>\n",
       "      <th>393</th>\n",
       "      <td>3.5</td>\n",
       "    </tr>\n",
       "    <tr>\n",
       "      <th>394</th>\n",
       "      <td>3.0</td>\n",
       "    </tr>\n",
       "  </tbody>\n",
       "</table>\n",
       "<p>395 rows × 1 columns</p>\n",
       "</div>"
      ],
      "text/plain": [
       "     total_alcohol\n",
       "0              1.0\n",
       "1              1.0\n",
       "2              2.5\n",
       "3              1.0\n",
       "4              1.5\n",
       "..             ...\n",
       "390            4.5\n",
       "391            3.5\n",
       "392            3.0\n",
       "393            3.5\n",
       "394            3.0\n",
       "\n",
       "[395 rows x 1 columns]"
      ]
     },
     "execution_count": 25,
     "metadata": {},
     "output_type": "execute_result"
    }
   ],
   "source": [
    "student_df[\"total_alcohol\"] = student_df[['weekday_alcohol', 'weekend_alcohol']].mean(axis=1)\n",
    "\n",
    "student_df[[\"total_alcohol\"]]"
   ]
  },
  {
   "cell_type": "markdown",
   "id": "7ed69986-1b5f-4ba0-9680-4a27d07685ed",
   "metadata": {
    "tags": []
   },
   "source": [
    "### Here we've created a new column that gives the average level of alcohol during the week (including weekends). We'll now take a look at what impact this has on the level of absence of underage students."
   ]
  },
  {
   "cell_type": "code",
   "execution_count": 26,
   "id": "e7747594-acad-4f82-890a-8984433edff4",
   "metadata": {
    "tags": []
   },
   "outputs": [
    {
     "ename": "ValueError",
     "evalue": "Could not interpret input 'total_alcohol'",
     "output_type": "error",
     "traceback": [
      "\u001b[0;31m---------------------------------------------------------------------------\u001b[0m",
      "\u001b[0;31mValueError\u001b[0m                                Traceback (most recent call last)",
      "Cell \u001b[0;32mIn[26], line 2\u001b[0m\n\u001b[1;32m      1\u001b[0m fig, ax \u001b[38;5;241m=\u001b[39m plt\u001b[38;5;241m.\u001b[39msubplots(\u001b[38;5;241m1\u001b[39m, \u001b[38;5;241m2\u001b[39m, figsize\u001b[38;5;241m=\u001b[39m(\u001b[38;5;241m18\u001b[39m, \u001b[38;5;241m6\u001b[39m))\n\u001b[0;32m----> 2\u001b[0m sns\u001b[38;5;241m.\u001b[39mbarplot(x\u001b[38;5;241m=\u001b[39m\u001b[38;5;124m'\u001b[39m\u001b[38;5;124mtotal_alcohol\u001b[39m\u001b[38;5;124m'\u001b[39m, y\u001b[38;5;241m=\u001b[39m\u001b[38;5;124m'\u001b[39m\u001b[38;5;124msocial\u001b[39m\u001b[38;5;124m'\u001b[39m, data\u001b[38;5;241m=\u001b[39mminor, palette\u001b[38;5;241m=\u001b[39m\u001b[38;5;124m'\u001b[39m\u001b[38;5;124mviridis\u001b[39m\u001b[38;5;124m'\u001b[39m, ax\u001b[38;5;241m=\u001b[39max[\u001b[38;5;241m0\u001b[39m], errorbar\u001b[38;5;241m=\u001b[39m \u001b[38;5;28;01mNone\u001b[39;00m)\n\u001b[1;32m      3\u001b[0m ax[\u001b[38;5;241m0\u001b[39m]\u001b[38;5;241m.\u001b[39mset_xlabel(\u001b[38;5;124m\"\u001b[39m\u001b[38;5;124mLevel of alcohol consumption (1-5)\u001b[39m\u001b[38;5;124m\"\u001b[39m)\n\u001b[1;32m      4\u001b[0m ax[\u001b[38;5;241m0\u001b[39m]\u001b[38;5;241m.\u001b[39mset_ylabel(\u001b[38;5;124m\"\u001b[39m\u001b[38;5;124mSocial\u001b[39m\u001b[38;5;124m\"\u001b[39m)\n",
      "File \u001b[0;32m~/anaconda3/lib/python3.11/site-packages/seaborn/categorical.py:2755\u001b[0m, in \u001b[0;36mbarplot\u001b[0;34m(data, x, y, hue, order, hue_order, estimator, errorbar, n_boot, units, seed, orient, color, palette, saturation, width, errcolor, errwidth, capsize, dodge, ci, ax, **kwargs)\u001b[0m\n\u001b[1;32m   2752\u001b[0m \u001b[38;5;28;01mif\u001b[39;00m estimator \u001b[38;5;129;01mis\u001b[39;00m \u001b[38;5;28mlen\u001b[39m:\n\u001b[1;32m   2753\u001b[0m     estimator \u001b[38;5;241m=\u001b[39m \u001b[38;5;124m\"\u001b[39m\u001b[38;5;124msize\u001b[39m\u001b[38;5;124m\"\u001b[39m\n\u001b[0;32m-> 2755\u001b[0m plotter \u001b[38;5;241m=\u001b[39m _BarPlotter(x, y, hue, data, order, hue_order,\n\u001b[1;32m   2756\u001b[0m                       estimator, errorbar, n_boot, units, seed,\n\u001b[1;32m   2757\u001b[0m                       orient, color, palette, saturation,\n\u001b[1;32m   2758\u001b[0m                       width, errcolor, errwidth, capsize, dodge)\n\u001b[1;32m   2760\u001b[0m \u001b[38;5;28;01mif\u001b[39;00m ax \u001b[38;5;129;01mis\u001b[39;00m \u001b[38;5;28;01mNone\u001b[39;00m:\n\u001b[1;32m   2761\u001b[0m     ax \u001b[38;5;241m=\u001b[39m plt\u001b[38;5;241m.\u001b[39mgca()\n",
      "File \u001b[0;32m~/anaconda3/lib/python3.11/site-packages/seaborn/categorical.py:1530\u001b[0m, in \u001b[0;36m_BarPlotter.__init__\u001b[0;34m(self, x, y, hue, data, order, hue_order, estimator, errorbar, n_boot, units, seed, orient, color, palette, saturation, width, errcolor, errwidth, capsize, dodge)\u001b[0m\n\u001b[1;32m   1525\u001b[0m \u001b[38;5;28;01mdef\u001b[39;00m \u001b[38;5;21m__init__\u001b[39m(\u001b[38;5;28mself\u001b[39m, x, y, hue, data, order, hue_order,\n\u001b[1;32m   1526\u001b[0m              estimator, errorbar, n_boot, units, seed,\n\u001b[1;32m   1527\u001b[0m              orient, color, palette, saturation, width,\n\u001b[1;32m   1528\u001b[0m              errcolor, errwidth, capsize, dodge):\n\u001b[1;32m   1529\u001b[0m \u001b[38;5;250m    \u001b[39m\u001b[38;5;124;03m\"\"\"Initialize the plotter.\"\"\"\u001b[39;00m\n\u001b[0;32m-> 1530\u001b[0m     \u001b[38;5;28mself\u001b[39m\u001b[38;5;241m.\u001b[39mestablish_variables(x, y, hue, data, orient,\n\u001b[1;32m   1531\u001b[0m                              order, hue_order, units)\n\u001b[1;32m   1532\u001b[0m     \u001b[38;5;28mself\u001b[39m\u001b[38;5;241m.\u001b[39mestablish_colors(color, palette, saturation)\n\u001b[1;32m   1533\u001b[0m     \u001b[38;5;28mself\u001b[39m\u001b[38;5;241m.\u001b[39mestimate_statistic(estimator, errorbar, n_boot, seed)\n",
      "File \u001b[0;32m~/anaconda3/lib/python3.11/site-packages/seaborn/categorical.py:541\u001b[0m, in \u001b[0;36m_CategoricalPlotter.establish_variables\u001b[0;34m(self, x, y, hue, data, orient, order, hue_order, units)\u001b[0m\n\u001b[1;32m    539\u001b[0m     \u001b[38;5;28;01mif\u001b[39;00m \u001b[38;5;28misinstance\u001b[39m(var, \u001b[38;5;28mstr\u001b[39m):\n\u001b[1;32m    540\u001b[0m         err \u001b[38;5;241m=\u001b[39m \u001b[38;5;124mf\u001b[39m\u001b[38;5;124m\"\u001b[39m\u001b[38;5;124mCould not interpret input \u001b[39m\u001b[38;5;124m'\u001b[39m\u001b[38;5;132;01m{\u001b[39;00mvar\u001b[38;5;132;01m}\u001b[39;00m\u001b[38;5;124m'\u001b[39m\u001b[38;5;124m\"\u001b[39m\n\u001b[0;32m--> 541\u001b[0m         \u001b[38;5;28;01mraise\u001b[39;00m \u001b[38;5;167;01mValueError\u001b[39;00m(err)\n\u001b[1;32m    543\u001b[0m \u001b[38;5;66;03m# Figure out the plotting orientation\u001b[39;00m\n\u001b[1;32m    544\u001b[0m orient \u001b[38;5;241m=\u001b[39m infer_orient(\n\u001b[1;32m    545\u001b[0m     x, y, orient, require_numeric\u001b[38;5;241m=\u001b[39m\u001b[38;5;28mself\u001b[39m\u001b[38;5;241m.\u001b[39mrequire_numeric\n\u001b[1;32m    546\u001b[0m )\n",
      "\u001b[0;31mValueError\u001b[0m: Could not interpret input 'total_alcohol'"
     ]
    },
    {
     "data": {
      "image/png": "[encoded data removed]",
      "text/plain": [
       "<Figure size 1800x600 with 2 Axes>"
      ]
     },
     "metadata": {},
     "output_type": "display_data"
    }
   ],
   "source": [
    "fig, ax = plt.subplots(1, 2, figsize=(18, 6))\n",
    "sns.barplot(x='total_alcohol', y='social', data=minor, palette='viridis', ax=ax[0], errorbar= None)\n",
    "ax[0].set_xlabel(\"Level of alcohol consumption (1-5)\")\n",
    "ax[0].set_ylabel(\"Social\")\n",
    "ax[0].set_title(\"Comparison between social time and alcohol consumption on minors.\")  \n",
    "\n",
    "plt.subplots_adjust(wspace=1)\n",
    "\n",
    "sns.barplot(x='social', y='class_failures', data=minor, palette='viridis', ax=ax[1], errorbar= None)\n",
    "ax[1].set_xlabel(\"Social time\")\n",
    "ax[1].set_ylabel(\"Class failures\")\n",
    "ax[1].set_title(\"Comparison between social time class failures on minors.\")  \n",
    "plt.show()\n",
    "\n"
   ]
  },
  {
   "cell_type": "markdown",
   "id": "dc812e01-3cac-4227-9f7e-be759146deee",
   "metadata": {},
   "source": [
    "### Conclusion 2: We studied underage students who drank alcohol, as this was less common than among adults. Our graphs show that an elevated level of alcohol consumption is associated with a more active social life. However, an overly intense or moderate social life increases the risk of class failure. In conclusion, it's all a question of balance: drinking too much can lead to failure, and not drinking at all doesn't necessarily guarantee success."
   ]
  },
  {
   "cell_type": "markdown",
   "id": "22e4e090-166e-4084-bb0e-f75352f51693",
   "metadata": {},
   "source": [
    "## 3 - Factors influencing school performance of rural residents"
   ]
  },
  {
   "cell_type": "markdown",
   "id": "94a5fa01-f003-48d4-a77a-b38301826ecc",
   "metadata": {
    "tags": []
   },
   "source": [
    "#### Here we'll try to find out which extra-curricular factors influence the final exam grade."
   ]
  },
  {
   "cell_type": "code",
   "execution_count": null,
   "id": "8019eb68-9f23-41f3-9f89-6b43b5750869",
   "metadata": {
    "tags": []
   },
   "outputs": [],
   "source": [
    "counted_rural_urban= student_df[\"address_type\"].value_counts()\n",
    "counted_rural_urban"
   ]
  },
  {
   "cell_type": "code",
   "execution_count": null,
   "id": "e231980f-f1ac-4470-b490-64b97ee5d768",
   "metadata": {
    "tags": []
   },
   "outputs": [],
   "source": [
    "percentage_rural_urban= counted_rural_urban/ len(student_df)*100"
   ]
  },
  {
   "cell_type": "code",
   "execution_count": null,
   "id": "3aaf43a7-835c-4ed5-b78d-aa3c5a9a4bc6",
   "metadata": {
    "tags": []
   },
   "outputs": [],
   "source": [
    "plt.figure(figsize=(8, 8))\n",
    "plt.pie(percentage_rural_urban, labels=percentage_rural_urban.index, autopct='%1.1f%%',startangle= 140 ,colors=['#ffb3e6', '#c2c2f0'])\n",
    "plt.title('Distribution of rural and urban families')\n",
    "plt.show()"
   ]
  },
  {
   "cell_type": "code",
   "execution_count": null,
   "id": "5ebe22ea-c185-410e-b14b-265c5e2a9101",
   "metadata": {
    "tags": []
   },
   "outputs": [],
   "source": [
    "plt.figure(figsize=(9, 8))\n",
    "sns.barplot(x='address_type', y='final_grade',hue='travel_time', data=student_df,hue_order=[\"<15 min.\",\"15 to 30 min.\",\"30 min. to 1 hour\",\">1 hour\"], palette='Purples',errorbar=None)\n",
    "plt.xlabel(\"Address type\")\n",
    "plt.ylabel(\"Final Grade\")\n",
    "plt.title(\"Comparison of rural families, activities and their final grades\")\n",
    "plt.legend(title='Activities', bbox_to_anchor=(1, 1), loc='upper left')\n",
    "\n",
    "plt.show()"
   ]
  },
  {
   "cell_type": "markdown",
   "id": "5ac474ba-f44f-423d-9433-6004fc407cde",
   "metadata": {},
   "source": [
    "###  Conclusion 3 : We find that travel time doesn't affect people who live in cities, while it does have an influence on people living in rural areas. So we're going to focus on people living in the countryside whose commute time exceeds one hour."
   ]
  },
  {
   "cell_type": "code",
   "execution_count": null,
   "id": "9de12301-5a34-479a-b57a-b6b777e879d1",
   "metadata": {
    "tags": []
   },
   "outputs": [],
   "source": [
    "rural_long_travel = student_df[(student_df[\"address_type\"] == 'Rural') & (student_df['travel_time']==\">1 hour\" )]"
   ]
  },
  {
   "cell_type": "code",
   "execution_count": null,
   "id": "1e03b24d-294d-46d6-a747-037545c424cb",
   "metadata": {
    "tags": []
   },
   "outputs": [],
   "source": [
    "plt.figure(figsize=(9, 8))\n",
    "sns.barplot (x='activities', y='final_grade', data=rural_long_travel, palette='YlOrRd',errorbar=None)\n",
    "plt.xlabel(\"Travel Time\")\n",
    "plt.ylabel(\"Final Grade\")\n",
    "plt.title(\"Higher grade, travel time and success\")\n",
    "plt.show"
   ]
  },
  {
   "cell_type": "markdown",
   "id": "6021f0f4-6e7a-4d70-abff-3b998ef3d776",
   "metadata": {},
   "source": [
    "Commuting time affects people living in rural areas. However, we observe that people with more than an hour's commute who take part in activities tend to get better marks than those who do not. We can therefore conclude that activities have a positive impact on school results."
   ]
  },
  {
   "cell_type": "markdown",
   "id": "04dd4625-0564-4288-90b8-a31d73f83e40",
   "metadata": {},
   "source": [
    "## Things we tried but didn't achieve to anything:"
   ]
  },
  {
   "cell_type": "markdown",
   "id": "a5df569d-283c-48e8-acbe-bd8ef5cc15a1",
   "metadata": {},
   "source": [
    "Conclusion 1:"
   ]
  },
  {
   "cell_type": "code",
   "execution_count": null,
   "id": "df9066c9-fd6c-4a18-9ba8-f76ca659ca1b",
   "metadata": {
    "tags": []
   },
   "outputs": [],
   "source": [
    "plt.figure(figsize=(10,5))\n",
    "sns.swarmplot(x=\"AtLeastTwoYes\", y=\"final_grade\", hue=\"study_time\", data=student_df)\n",
    "plt.xlabel(\"\")\n",
    "plt.ylabel(\"Final grade\")\n",
    "plt.title(\"Final grade with extra support and study time\")\n",
    "plt.legend(loc='upper right',bbox_to_anchor=(1.4,0.7 ))\n",
    "plt.show()\n",
    "\n"
   ]
  },
  {
   "cell_type": "markdown",
   "id": "1a4ebaa2-4a85-4a26-89be-2d1aa95f53e6",
   "metadata": {},
   "source": [
    "Conclusion 2:"
   ]
  },
  {
   "cell_type": "code",
   "execution_count": null,
   "id": "89e67588-1d09-4aab-8dd1-e75c9fb27616",
   "metadata": {},
   "outputs": [],
   "source": [
    "all_features=['absences', 'class_failures', 'final_grade','family_size','health']"
   ]
  },
  {
   "cell_type": "code",
   "execution_count": null,
   "id": "ecc01a7d-28c8-4a34-b309-eb010e7d48aa",
   "metadata": {},
   "outputs": [],
   "source": [
    "subset_df = student_df.loc[:, ['absences', 'class_failures', 'final_grade','family_size','health']]"
   ]
  },
  {
   "cell_type": "code",
   "execution_count": null,
   "id": "5f22474d-919d-4646-8510-848d182debfe",
   "metadata": {},
   "outputs": [],
   "source": [
    "all_features=['absences', 'class_failures', 'final_grade','family_size','health']"
   ]
  },
  {
   "cell_type": "code",
   "execution_count": null,
   "id": "59cbc03d-d355-4dd2-baab-61a4c6d138af",
   "metadata": {},
   "outputs": [],
   "source": [
    "subset_df = student_df.loc[:, ['absences', 'class_failures', 'final_grade','family_size','health']]"
   ]
  },
  {
   "cell_type": "code",
   "execution_count": null,
   "id": "7a4be15d-8227-429e-b924-9d9c4c9ad00e",
   "metadata": {},
   "outputs": [],
   "source": [
    "correlation_matrix=subset_df.corr(numeric_only = False, method = 'spearman' ).round(2)\n",
    "subset_correlation_matrix = correlation_matrix[all_features].transpose()\n",
    "subset_correlation_matrix"
   ]
  },
  {
   "cell_type": "code",
   "execution_count": null,
   "id": "00cc9a61-ca7d-4657-8ae2-4751414b9d05",
   "metadata": {},
   "outputs": [],
   "source": [
    "plt.figure(figsize=(17,2))\n",
    "sns.heatmap(data=subset_correlation_matrix,cmap='coolwarm', annot=True, xticklabels=subset_df.columns.tolist(), yticklabels=all_features)\n",
    "plt.show()"
   ]
  },
  {
   "cell_type": "markdown",
   "id": "7c36a8e6-fc8b-4ab9-9368-063d4ff29d44",
   "metadata": {},
   "source": [
    "Conclusion 3: "
   ]
  },
  {
   "cell_type": "code",
   "execution_count": null,
   "id": "5b551dba-0860-497e-a150-990dabcf6409",
   "metadata": {},
   "outputs": [],
   "source": [
    "plt.figure(figsize=(9, 8))\n",
    "sns.barplot(x='activities', y='class_failures', hue='sex', data=minor, palette='viridis')\n",
    "\n",
    "plt.xlabel(\"Activites\")\n",
    "plt.ylabel(\"Class failures\")\n",
    "plt.title(\"Comparison between girls and boys who do activities and their repeats\")\n",
    "\n",
    "plt.legend(title='Age', bbox_to_anchor=(1.05, 1), loc='upper left')\n",
    "\n",
    "plt.show()"
   ]
  },
  {
   "cell_type": "code",
   "execution_count": null,
   "id": "6b36ca10-5402-49ea-a5cf-6c476c94a1f5",
   "metadata": {},
   "outputs": [],
   "source": [
    "higher_ed_mapp={'no':0,'yes':1}\n",
    "student_df[\"higher_ed_num\"]= student_df[\"higher_ed\"].map(higher_ed_mapp)"
   ]
  },
  {
   "cell_type": "code",
   "execution_count": null,
   "id": "9119b7aa-308f-445c-8afd-13564e400223",
   "metadata": {},
   "outputs": [],
   "source": [
    "parent_job_mapping={\"at_home\":0,\"services\":1, \"teacher\":2, \"health\":3, \"other\":4}\n",
    "student_df[\"mother_job_num\"]=student_df[\"mother_job\"].map(parent_job_mapping)\n",
    "student_df[\"father_job_num\"]=student_df[\"father_job\"].map(parent_job_mapping)"
   ]
  },
  {
   "cell_type": "code",
   "execution_count": null,
   "id": "a2105f34-92a0-4cda-85f5-a4dc29cf67fc",
   "metadata": {},
   "outputs": [],
   "source": [
    "educ_features=['mother_job_num', 'father_job_num', 'mother_education_num','father_education_num','class_failures','final_grade','higher_ed_num']"
   ]
  },
  {
   "cell_type": "code",
   "execution_count": null,
   "id": "24f8aa18-6843-4ecc-8a42-8ed08f5f21ba",
   "metadata": {},
   "outputs": [],
   "source": [
    "sub_educ_df = student_df.loc[:, ['mother_job_num', 'father_job_num', 'mother_education_num','father_education_num','class_failures','final_grade','higher_ed_num']]"
   ]
  },
  {
   "cell_type": "code",
   "execution_count": null,
   "id": "c6477b02-4690-43e5-8cff-96efbeaf4758",
   "metadata": {},
   "outputs": [],
   "source": [
    "correlation_matrix=sub_educ_df.corr(numeric_only = False, method = 'spearman' ).round(2)\n",
    "subset_correlation_matrix_educ = correlation_matrix[educ_features].transpose()\n",
    "subset_correlation_matrix_educ"
   ]
  },
  {
   "cell_type": "code",
   "execution_count": null,
   "id": "5aba49b8-502d-467a-87a2-3faf2f73c80c",
   "metadata": {},
   "outputs": [],
   "source": [
    "plt.figure(figsize=(17,2))\n",
    "sns.heatmap(data=subset_correlation_matrix_educ,cmap='coolwarm', annot=True, xticklabels=sub_educ_df.columns.tolist(), yticklabels=educ_features)\n",
    "plt.show()"
   ]
  },
  {
   "cell_type": "code",
   "execution_count": null,
   "id": "a239ef7f-6491-4bec-b8bd-43fcfd909064",
   "metadata": {},
   "outputs": [],
   "source": [
    "filtered_boy = student_df[student_df['sex'] == 'M']\n",
    "filtered_girl= student_df[student_df['sex'] == 'F']"
   ]
  },
  {
   "cell_type": "code",
   "execution_count": null,
   "id": "6cdb0255-3931-4b5f-bb36-b30b28ff5045",
   "metadata": {
    "tags": []
   },
   "outputs": [],
   "source": [
    "fig, ax = plt.subplots(1, 2, figsize=(18, 8))\n",
    "\n",
    "\n",
    "sns.barplot(x='mother_education', y='class_failures', hue='activities', data=filtered_boy, palette='viridis',order=[\"none\", \"primary education (4th grade)\",\"5th to 9th grade\",'secondary education',\"higher education\"],hue_order=activities_order, ax=ax[0],errorbar=None)\n",
    "ax[0].set_xlabel(\"Activities\")\n",
    "ax[0].set_ylabel(\"Final grade\")\n",
    "ax[0].set_title(\"Comparison of boys doing activities and their final grades\")\n",
    "ax[0].legend(title='Activities', bbox_to_anchor=(1.05, 1), loc='upper left')\n",
    "sns.barplot(x='mother_education', y='class_failures', hue='activities', data=filtered_girl, palette='viridis',order=['none',\"primary education (4th grade)\",\"5th to 9th grade\",'secondary education',\"higher education\"],hue_order=activities_order, ax=ax[1],errorbar=None)\n",
    "ax[1].set_xlabel(\"Activities\")\n",
    "ax[1].set_ylabel(\"Final grade\")\n",
    "ax[1].set_title(\"Comparison of girls doing activities and their final grades\")\n",
    "\n",
    "plt.tight_layout()\n",
    "plt.show()\n",
    "\n",
    "order= ['services','health','teacher','at_home','other']"
   ]
  }
 ],
 "metadata": {
  "kernelspec": {
   "display_name": "Python 3 (ipykernel)",
   "language": "python",
   "name": "python3"
  },
  "language_info": {
   "codemirror_mode": {
    "name": "ipython",
    "version": 3
   },
   "file_extension": ".py",
   "mimetype": "text/x-python",
   "name": "python",
   "nbconvert_exporter": "python",
   "pygments_lexer": "ipython3",
   "version": "3.11.5"
  }
 },
 "nbformat": 4,
 "nbformat_minor": 5
}
