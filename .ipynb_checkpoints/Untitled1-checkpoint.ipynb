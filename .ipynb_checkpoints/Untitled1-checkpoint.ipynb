{
 "cells": [
  {
   "cell_type": "markdown",
   "id": "e725ef51-80be-4c50-aed4-e14196c729ec",
   "metadata": {
    "tags": []
   },
   "source": [
    "# High School Student Performance and  Demographics"
   ]
  },
  {
   "cell_type": "markdown",
   "id": "cc53909f-6f1a-4aaa-8c88-5267f9a07e00",
   "metadata": {},
   "source": [
    "### Group 19"
   ]
  },
  {
   "cell_type": "markdown",
   "id": "f0e97e92-abf3-4f85-a970-d9c0a6b098fa",
   "metadata": {},
   "source": [
    "## Sarah Derhy and Shirel Amar"
   ]
  },
  {
   "cell_type": "markdown",
   "id": "9dac9a62-60e2-4e0d-a7c6-da69bdecc278",
   "metadata": {},
   "source": [
    " #### Github link : https://www.kaggle.com/datasets/dillonmyrick/high-school-student-performance-and-demographics"
   ]
  },
  {
   "cell_type": "markdown",
   "id": "4edd342b-f2e9-4fdc-8b20-2a8a7254f5af",
   "metadata": {},
   "source": [
    "### 1. Reading data"
   ]
  },
  {
   "cell_type": "code",
   "execution_count": 15,
   "id": "bfe560e8-447d-414b-b77d-d434d88785f9",
   "metadata": {
    "tags": []
   },
   "outputs": [],
   "source": [
    "import pandas as pd\n",
    "import seaborn as sns\n",
    "import geopandas as gpd\n",
    "import matplotlib.pyplot as plt\n",
    "import numpy as np\n",
    "import requests\n",
    "from IPython.display import Image\n",
    "from matplotlib.patches import Patch\n",
    "import matplotlib.patches as mpatches\n",
    "from matplotlib.lines import Line2D"
   ]
  },
  {
   "cell_type": "code",
   "execution_count": null,
   "id": "7da8676d-779b-4bc4-b2fa-4b05868e2bc2",
   "metadata": {},
   "outputs": [],
   "source": []
  },
  {
   "cell_type": "code",
   "execution_count": 16,
   "id": "52895222-4970-4053-a798-7fbb8d5a71e7",
   "metadata": {
    "tags": []
   },
   "outputs": [],
   "source": [
    "url= 'https://raw.githubusercontent.com/SarahDerhy/Project1/main/student_math_clean.csv'\n",
    "student_df = pd.read_csv(url)"
   ]
  },
  {
   "cell_type": "code",
   "execution_count": 17,
   "id": "5ee50d23-b585-4d50-a6c1-edcafc680637",
   "metadata": {
    "tags": []
   },
   "outputs": [],
   "source": [
    "student_df=student_df.copy()"
   ]
  },
  {
   "cell_type": "code",
   "execution_count": 18,
   "id": "bc8560e9-001c-4a6c-8249-6772a0358a49",
   "metadata": {
    "tags": []
   },
   "outputs": [
    {
     "data": {
      "text/html": [
       "<div>\n",
       "<style scoped>\n",
       "    .dataframe tbody tr th:only-of-type {\n",
       "        vertical-align: middle;\n",
       "    }\n",
       "\n",
       "    .dataframe tbody tr th {\n",
       "        vertical-align: top;\n",
       "    }\n",
       "\n",
       "    .dataframe thead th {\n",
       "        text-align: right;\n",
       "    }\n",
       "</style>\n",
       "<table border=\"1\" class=\"dataframe\">\n",
       "  <thead>\n",
       "    <tr style=\"text-align: right;\">\n",
       "      <th></th>\n",
       "      <th>student_id</th>\n",
       "      <th>school</th>\n",
       "      <th>sex</th>\n",
       "      <th>age</th>\n",
       "      <th>address_type</th>\n",
       "      <th>family_size</th>\n",
       "      <th>parent_status</th>\n",
       "      <th>mother_education</th>\n",
       "      <th>father_education</th>\n",
       "      <th>mother_job</th>\n",
       "      <th>...</th>\n",
       "      <th>family_relationship</th>\n",
       "      <th>free_time</th>\n",
       "      <th>social</th>\n",
       "      <th>weekday_alcohol</th>\n",
       "      <th>weekend_alcohol</th>\n",
       "      <th>health</th>\n",
       "      <th>absences</th>\n",
       "      <th>grade_1</th>\n",
       "      <th>grade_2</th>\n",
       "      <th>final_grade</th>\n",
       "    </tr>\n",
       "  </thead>\n",
       "  <tbody>\n",
       "    <tr>\n",
       "      <th>0</th>\n",
       "      <td>1</td>\n",
       "      <td>GP</td>\n",
       "      <td>F</td>\n",
       "      <td>18</td>\n",
       "      <td>Urban</td>\n",
       "      <td>Greater than 3</td>\n",
       "      <td>Apart</td>\n",
       "      <td>higher education</td>\n",
       "      <td>higher education</td>\n",
       "      <td>at_home</td>\n",
       "      <td>...</td>\n",
       "      <td>4</td>\n",
       "      <td>3</td>\n",
       "      <td>4</td>\n",
       "      <td>1</td>\n",
       "      <td>1</td>\n",
       "      <td>3</td>\n",
       "      <td>6</td>\n",
       "      <td>5</td>\n",
       "      <td>6</td>\n",
       "      <td>6</td>\n",
       "    </tr>\n",
       "    <tr>\n",
       "      <th>1</th>\n",
       "      <td>2</td>\n",
       "      <td>GP</td>\n",
       "      <td>F</td>\n",
       "      <td>17</td>\n",
       "      <td>Urban</td>\n",
       "      <td>Greater than 3</td>\n",
       "      <td>Living together</td>\n",
       "      <td>primary education (4th grade)</td>\n",
       "      <td>primary education (4th grade)</td>\n",
       "      <td>at_home</td>\n",
       "      <td>...</td>\n",
       "      <td>5</td>\n",
       "      <td>3</td>\n",
       "      <td>3</td>\n",
       "      <td>1</td>\n",
       "      <td>1</td>\n",
       "      <td>3</td>\n",
       "      <td>4</td>\n",
       "      <td>5</td>\n",
       "      <td>5</td>\n",
       "      <td>6</td>\n",
       "    </tr>\n",
       "    <tr>\n",
       "      <th>2</th>\n",
       "      <td>3</td>\n",
       "      <td>GP</td>\n",
       "      <td>F</td>\n",
       "      <td>15</td>\n",
       "      <td>Urban</td>\n",
       "      <td>Less than or equal to 3</td>\n",
       "      <td>Living together</td>\n",
       "      <td>primary education (4th grade)</td>\n",
       "      <td>primary education (4th grade)</td>\n",
       "      <td>at_home</td>\n",
       "      <td>...</td>\n",
       "      <td>4</td>\n",
       "      <td>3</td>\n",
       "      <td>2</td>\n",
       "      <td>2</td>\n",
       "      <td>3</td>\n",
       "      <td>3</td>\n",
       "      <td>10</td>\n",
       "      <td>7</td>\n",
       "      <td>8</td>\n",
       "      <td>10</td>\n",
       "    </tr>\n",
       "    <tr>\n",
       "      <th>3</th>\n",
       "      <td>4</td>\n",
       "      <td>GP</td>\n",
       "      <td>F</td>\n",
       "      <td>15</td>\n",
       "      <td>Urban</td>\n",
       "      <td>Greater than 3</td>\n",
       "      <td>Living together</td>\n",
       "      <td>higher education</td>\n",
       "      <td>5th to 9th grade</td>\n",
       "      <td>health</td>\n",
       "      <td>...</td>\n",
       "      <td>3</td>\n",
       "      <td>2</td>\n",
       "      <td>2</td>\n",
       "      <td>1</td>\n",
       "      <td>1</td>\n",
       "      <td>5</td>\n",
       "      <td>2</td>\n",
       "      <td>15</td>\n",
       "      <td>14</td>\n",
       "      <td>15</td>\n",
       "    </tr>\n",
       "    <tr>\n",
       "      <th>4</th>\n",
       "      <td>5</td>\n",
       "      <td>GP</td>\n",
       "      <td>F</td>\n",
       "      <td>16</td>\n",
       "      <td>Urban</td>\n",
       "      <td>Greater than 3</td>\n",
       "      <td>Living together</td>\n",
       "      <td>secondary education</td>\n",
       "      <td>secondary education</td>\n",
       "      <td>other</td>\n",
       "      <td>...</td>\n",
       "      <td>4</td>\n",
       "      <td>3</td>\n",
       "      <td>2</td>\n",
       "      <td>1</td>\n",
       "      <td>2</td>\n",
       "      <td>5</td>\n",
       "      <td>4</td>\n",
       "      <td>6</td>\n",
       "      <td>10</td>\n",
       "      <td>10</td>\n",
       "    </tr>\n",
       "  </tbody>\n",
       "</table>\n",
       "<p>5 rows × 34 columns</p>\n",
       "</div>"
      ],
      "text/plain": [
       "   student_id school sex  age address_type              family_size  \\\n",
       "0           1     GP   F   18        Urban           Greater than 3   \n",
       "1           2     GP   F   17        Urban           Greater than 3   \n",
       "2           3     GP   F   15        Urban  Less than or equal to 3   \n",
       "3           4     GP   F   15        Urban           Greater than 3   \n",
       "4           5     GP   F   16        Urban           Greater than 3   \n",
       "\n",
       "     parent_status               mother_education  \\\n",
       "0            Apart               higher education   \n",
       "1  Living together  primary education (4th grade)   \n",
       "2  Living together  primary education (4th grade)   \n",
       "3  Living together               higher education   \n",
       "4  Living together            secondary education   \n",
       "\n",
       "                father_education mother_job  ... family_relationship  \\\n",
       "0               higher education    at_home  ...                   4   \n",
       "1  primary education (4th grade)    at_home  ...                   5   \n",
       "2  primary education (4th grade)    at_home  ...                   4   \n",
       "3               5th to 9th grade     health  ...                   3   \n",
       "4            secondary education      other  ...                   4   \n",
       "\n",
       "  free_time social weekday_alcohol weekend_alcohol  health absences grade_1  \\\n",
       "0         3      4               1               1       3        6       5   \n",
       "1         3      3               1               1       3        4       5   \n",
       "2         3      2               2               3       3       10       7   \n",
       "3         2      2               1               1       5        2      15   \n",
       "4         3      2               1               2       5        4       6   \n",
       "\n",
       "  grade_2 final_grade  \n",
       "0       6           6  \n",
       "1       5           6  \n",
       "2       8          10  \n",
       "3      14          15  \n",
       "4      10          10  \n",
       "\n",
       "[5 rows x 34 columns]"
      ]
     },
     "execution_count": 18,
     "metadata": {},
     "output_type": "execute_result"
    }
   ],
   "source": [
    "student_df.head()"
   ]
  },
  {
   "cell_type": "code",
   "execution_count": 19,
   "id": "2a316f92-eb9e-4b0e-a939-e84705976dde",
   "metadata": {
    "tags": []
   },
   "outputs": [
    {
     "data": {
      "text/plain": [
       "(395, 34)"
      ]
     },
     "execution_count": 19,
     "metadata": {},
     "output_type": "execute_result"
    }
   ],
   "source": [
    "student_df.shape"
   ]
  },
  {
   "cell_type": "code",
   "execution_count": 20,
   "id": "66d629fd-e362-474b-9cf5-cbb052831637",
   "metadata": {
    "tags": []
   },
   "outputs": [
    {
     "data": {
      "text/html": [
       "<div>\n",
       "<style scoped>\n",
       "    .dataframe tbody tr th:only-of-type {\n",
       "        vertical-align: middle;\n",
       "    }\n",
       "\n",
       "    .dataframe tbody tr th {\n",
       "        vertical-align: top;\n",
       "    }\n",
       "\n",
       "    .dataframe thead th {\n",
       "        text-align: right;\n",
       "    }\n",
       "</style>\n",
       "<table border=\"1\" class=\"dataframe\">\n",
       "  <thead>\n",
       "    <tr style=\"text-align: right;\">\n",
       "      <th></th>\n",
       "      <th>nulls</th>\n",
       "    </tr>\n",
       "  </thead>\n",
       "  <tbody>\n",
       "    <tr>\n",
       "      <th>student_id</th>\n",
       "      <td>0</td>\n",
       "    </tr>\n",
       "    <tr>\n",
       "      <th>school</th>\n",
       "      <td>0</td>\n",
       "    </tr>\n",
       "    <tr>\n",
       "      <th>sex</th>\n",
       "      <td>0</td>\n",
       "    </tr>\n",
       "    <tr>\n",
       "      <th>age</th>\n",
       "      <td>0</td>\n",
       "    </tr>\n",
       "    <tr>\n",
       "      <th>address_type</th>\n",
       "      <td>0</td>\n",
       "    </tr>\n",
       "    <tr>\n",
       "      <th>family_size</th>\n",
       "      <td>0</td>\n",
       "    </tr>\n",
       "    <tr>\n",
       "      <th>parent_status</th>\n",
       "      <td>0</td>\n",
       "    </tr>\n",
       "    <tr>\n",
       "      <th>mother_education</th>\n",
       "      <td>0</td>\n",
       "    </tr>\n",
       "    <tr>\n",
       "      <th>father_education</th>\n",
       "      <td>0</td>\n",
       "    </tr>\n",
       "    <tr>\n",
       "      <th>mother_job</th>\n",
       "      <td>0</td>\n",
       "    </tr>\n",
       "    <tr>\n",
       "      <th>father_job</th>\n",
       "      <td>0</td>\n",
       "    </tr>\n",
       "    <tr>\n",
       "      <th>school_choice_reason</th>\n",
       "      <td>0</td>\n",
       "    </tr>\n",
       "    <tr>\n",
       "      <th>guardian</th>\n",
       "      <td>0</td>\n",
       "    </tr>\n",
       "    <tr>\n",
       "      <th>travel_time</th>\n",
       "      <td>0</td>\n",
       "    </tr>\n",
       "    <tr>\n",
       "      <th>study_time</th>\n",
       "      <td>0</td>\n",
       "    </tr>\n",
       "    <tr>\n",
       "      <th>class_failures</th>\n",
       "      <td>0</td>\n",
       "    </tr>\n",
       "    <tr>\n",
       "      <th>school_support</th>\n",
       "      <td>0</td>\n",
       "    </tr>\n",
       "    <tr>\n",
       "      <th>family_support</th>\n",
       "      <td>0</td>\n",
       "    </tr>\n",
       "    <tr>\n",
       "      <th>extra_paid_classes</th>\n",
       "      <td>0</td>\n",
       "    </tr>\n",
       "    <tr>\n",
       "      <th>activities</th>\n",
       "      <td>0</td>\n",
       "    </tr>\n",
       "    <tr>\n",
       "      <th>nursery_school</th>\n",
       "      <td>0</td>\n",
       "    </tr>\n",
       "    <tr>\n",
       "      <th>higher_ed</th>\n",
       "      <td>0</td>\n",
       "    </tr>\n",
       "    <tr>\n",
       "      <th>internet_access</th>\n",
       "      <td>0</td>\n",
       "    </tr>\n",
       "    <tr>\n",
       "      <th>romantic_relationship</th>\n",
       "      <td>0</td>\n",
       "    </tr>\n",
       "    <tr>\n",
       "      <th>family_relationship</th>\n",
       "      <td>0</td>\n",
       "    </tr>\n",
       "    <tr>\n",
       "      <th>free_time</th>\n",
       "      <td>0</td>\n",
       "    </tr>\n",
       "    <tr>\n",
       "      <th>social</th>\n",
       "      <td>0</td>\n",
       "    </tr>\n",
       "    <tr>\n",
       "      <th>weekday_alcohol</th>\n",
       "      <td>0</td>\n",
       "    </tr>\n",
       "    <tr>\n",
       "      <th>weekend_alcohol</th>\n",
       "      <td>0</td>\n",
       "    </tr>\n",
       "    <tr>\n",
       "      <th>health</th>\n",
       "      <td>0</td>\n",
       "    </tr>\n",
       "    <tr>\n",
       "      <th>absences</th>\n",
       "      <td>0</td>\n",
       "    </tr>\n",
       "    <tr>\n",
       "      <th>grade_1</th>\n",
       "      <td>0</td>\n",
       "    </tr>\n",
       "    <tr>\n",
       "      <th>grade_2</th>\n",
       "      <td>0</td>\n",
       "    </tr>\n",
       "    <tr>\n",
       "      <th>final_grade</th>\n",
       "      <td>0</td>\n",
       "    </tr>\n",
       "  </tbody>\n",
       "</table>\n",
       "</div>"
      ],
      "text/plain": [
       "                       nulls\n",
       "student_id                 0\n",
       "school                     0\n",
       "sex                        0\n",
       "age                        0\n",
       "address_type               0\n",
       "family_size                0\n",
       "parent_status              0\n",
       "mother_education           0\n",
       "father_education           0\n",
       "mother_job                 0\n",
       "father_job                 0\n",
       "school_choice_reason       0\n",
       "guardian                   0\n",
       "travel_time                0\n",
       "study_time                 0\n",
       "class_failures             0\n",
       "school_support             0\n",
       "family_support             0\n",
       "extra_paid_classes         0\n",
       "activities                 0\n",
       "nursery_school             0\n",
       "higher_ed                  0\n",
       "internet_access            0\n",
       "romantic_relationship      0\n",
       "family_relationship        0\n",
       "free_time                  0\n",
       "social                     0\n",
       "weekday_alcohol            0\n",
       "weekend_alcohol            0\n",
       "health                     0\n",
       "absences                   0\n",
       "grade_1                    0\n",
       "grade_2                    0\n",
       "final_grade                0"
      ]
     },
     "execution_count": 20,
     "metadata": {},
     "output_type": "execute_result"
    }
   ],
   "source": [
    "student_df.isnull().sum().to_frame('nulls') #there is no missing values"
   ]
  },
  {
   "cell_type": "code",
   "execution_count": 21,
   "id": "73c071ba-b64b-43b6-9eb9-78621fc10d22",
   "metadata": {
    "tags": []
   },
   "outputs": [],
   "source": [
    "#demander a lihi ou raz demain pr rapport au 35 collones si toutes les garder ou cest trop ? avoir une idee conductrice en tete et voir pour le nettoyage du kovetz"
   ]
  },
  {
   "cell_type": "code",
   "execution_count": 22,
   "id": "22f6c019-115e-40f3-81c5-6c6be8a33da3",
   "metadata": {
    "tags": []
   },
   "outputs": [
    {
     "data": {
      "text/plain": [
       "student_id                int64\n",
       "school                   object\n",
       "sex                      object\n",
       "age                       int64\n",
       "address_type             object\n",
       "family_size              object\n",
       "parent_status            object\n",
       "mother_education         object\n",
       "father_education         object\n",
       "mother_job               object\n",
       "father_job               object\n",
       "school_choice_reason     object\n",
       "guardian                 object\n",
       "travel_time              object\n",
       "study_time               object\n",
       "class_failures            int64\n",
       "school_support           object\n",
       "family_support           object\n",
       "extra_paid_classes       object\n",
       "activities               object\n",
       "nursery_school           object\n",
       "higher_ed                object\n",
       "internet_access          object\n",
       "romantic_relationship    object\n",
       "family_relationship       int64\n",
       "free_time                 int64\n",
       "social                    int64\n",
       "weekday_alcohol           int64\n",
       "weekend_alcohol           int64\n",
       "health                    int64\n",
       "absences                  int64\n",
       "grade_1                   int64\n",
       "grade_2                   int64\n",
       "final_grade               int64\n",
       "dtype: object"
      ]
     },
     "execution_count": 22,
     "metadata": {},
     "output_type": "execute_result"
    }
   ],
   "source": [
    "student_df.dtypes"
   ]
  },
  {
   "cell_type": "code",
   "execution_count": 23,
   "id": "c4075531-b828-4eb9-9ac8-00c9e62c98e1",
   "metadata": {
    "tags": []
   },
   "outputs": [],
   "source": [
    "#faire des beuax croquis avec des beaux titres +pourcentages clairs and relevant"
   ]
  },
  {
   "cell_type": "code",
   "execution_count": 24,
   "id": "6fb2040b-84be-43da-bf10-e709168b62ee",
   "metadata": {
    "tags": []
   },
   "outputs": [],
   "source": [
    "#faire des corelations et en tirer des conclusions"
   ]
  },
  {
   "cell_type": "code",
   "execution_count": 25,
   "id": "4b15c5c2-32d3-439d-93db-7383c79de1b6",
   "metadata": {
    "tags": []
   },
   "outputs": [
    {
     "data": {
      "text/plain": [
       "Index(['student_id', 'school', 'sex', 'age', 'address_type', 'family_size',\n",
       "       'parent_status', 'mother_education', 'father_education', 'mother_job',\n",
       "       'father_job', 'school_choice_reason', 'guardian', 'travel_time',\n",
       "       'study_time', 'class_failures', 'school_support', 'family_support',\n",
       "       'extra_paid_classes', 'activities', 'nursery_school', 'higher_ed',\n",
       "       'internet_access', 'romantic_relationship', 'family_relationship',\n",
       "       'free_time', 'social', 'weekday_alcohol', 'weekend_alcohol', 'health',\n",
       "       'absences', 'grade_1', 'grade_2', 'final_grade'],\n",
       "      dtype='object')"
      ]
     },
     "execution_count": 25,
     "metadata": {},
     "output_type": "execute_result"
    }
   ],
   "source": [
    "student_df.columns"
   ]
  },
  {
   "cell_type": "code",
   "execution_count": 26,
   "id": "ff79e489-74f0-442e-8b8c-f13dfcfdc211",
   "metadata": {
    "tags": []
   },
   "outputs": [
    {
     "data": {
      "text/plain": [
       "<Axes: xlabel='final_grade', ylabel='Count'>"
      ]
     },
     "execution_count": 26,
     "metadata": {},
     "output_type": "execute_result"
    },
    {
     "data": {
      "image/png": "[encoded data removed]",
      "text/plain": [
       "<Figure size 1500x500 with 1 Axes>"
      ]
     },
     "metadata": {},
     "output_type": "display_data"
    }
   ],
   "source": [
    "fig, axes = plt.subplots(figsize=(15, 5))\n",
    "sns.histplot(data=student_df, x='final_grade', bins=10)"
   ]
  },
  {
   "cell_type": "code",
   "execution_count": 31,
   "id": "fc22f985-8ae7-402f-9fea-0fccc6ae498a",
   "metadata": {
    "tags": []
   },
   "outputs": [],
   "source": [
    "low_grade=student_df[student_df['final_grade']<=10]"
   ]
  },
  {
   "cell_type": "code",
   "execution_count": 33,
   "id": "55eb8b66-b9d9-48f7-934e-4804e6c8972e",
   "metadata": {
    "tags": []
   },
   "outputs": [],
   "source": [
    "student_df['AtLeastTwoYes'] = student_df[['extra_paid_classes', 'school_support', 'internet_access']].apply(lambda x: 'Yes' if (x == 'yes').sum() >= 2 else 'No', axis=1)"
   ]
  },
  {
   "cell_type": "code",
   "execution_count": 56,
   "id": "a01cd7d3-30e0-4a35-a31f-8843c7da8606",
   "metadata": {
    "tags": []
   },
   "outputs": [
    {
     "data": {
      "text/plain": [
       "<Figure size 1000x600 with 0 Axes>"
      ]
     },
     "metadata": {},
     "output_type": "display_data"
    },
    {
     "data": {
      "image/png": "[encoded data removed]",
      "text/plain": [
       "<Figure size 640x480 with 1 Axes>"
      ]
     },
     "metadata": {},
     "output_type": "display_data"
    }
   ],
   "source": [
    "plt.figure(figsize=(10, 6))\n",
    "boxplot = student_df.boxplot(column='final_grade', by='AtLeastTwoYes')\n",
    "plt.grid(False)\n",
    "plt.title('Influence of extrasupport on final grade')\n",
    "plt.suptitle('')\n",
    "plt.xlabel('At least two extra support')\n",
    "plt.ylabel('Final Grade')\n",
    "plt.show()"
   ]
  },
  {
   "cell_type": "code",
   "execution_count": 34,
   "id": "3fe67a0f-d97c-47af-9091-a3df49bde6f2",
   "metadata": {
    "tags": []
   },
   "outputs": [
    {
     "data": {
      "image/png": "[encoded data removed]",
      "text/plain": [
       "<Figure size 640x480 with 1 Axes>"
      ]
     },
     "metadata": {},
     "output_type": "display_data"
    }
   ],
   "source": [
    "sns.boxplot(y=low_grade[\"final_grade\"], x=\"AtLeastTwoYes\", data=student_df)\n",
    "plt.show()"
   ]
  },
  {
   "cell_type": "markdown",
   "id": "a45fd8c5-7953-425c-9b32-cfa61f16979b",
   "metadata": {
    "tags": []
   },
   "source": [
    "nous pouvons voir que les etudiants qui ont eu acces a des des aides scolaires ont des notes beaucoup moins eparpilles que ceux qui n'ent ont pas eu. nous allons donc chercher ce qui influent potentiellemtn sur l'echec des enfants qui n'ont pas d'aide."
   ]
  },
  {
   "cell_type": "code",
   "execution_count": 93,
   "id": "44131c9c-fb3e-4045-9c66-e713a64e040d",
   "metadata": {
    "tags": []
   },
   "outputs": [],
   "source": [
    "filtered_df = student_df[(student_df['AtLeastTwoYes'] == 'No') & (student_df['final_grade'] <= 10)]"
   ]
  },
  {
   "cell_type": "code",
   "execution_count": 94,
   "id": "0b9827f7-1818-492d-8ce1-5ba3fab8c23a",
   "metadata": {
    "tags": []
   },
   "outputs": [
    {
     "data": {
      "text/plain": [
       "(100, 36)"
      ]
     },
     "execution_count": 94,
     "metadata": {},
     "output_type": "execute_result"
    }
   ],
   "source": [
    "filtered_df =student_df[(student_df['AtLeastTwoYes'] == 'No') & (student_df['final_grade'] <= 10)]\n",
    "filtered_df.shape\n",
    "\n"
   ]
  },
  {
   "cell_type": "code",
   "execution_count": null,
   "id": "74f5220d-2908-40c7-bc1e-72a1885ca80d",
   "metadata": {
    "tags": []
   },
   "outputs": [],
   "source": [
    "\n"
   ]
  },
  {
   "cell_type": "code",
   "execution_count": null,
   "id": "421eeb90-51c3-4756-be4e-2f493e48420f",
   "metadata": {
    "tags": []
   },
   "outputs": [],
   "source": [
    "\n"
   ]
  },
  {
   "cell_type": "code",
   "execution_count": null,
   "id": "c7a26e2c-438a-4854-b72b-997c5ebcce7b",
   "metadata": {
    "tags": []
   },
   "outputs": [],
   "source": [
    "\n"
   ]
  },
  {
   "cell_type": "code",
   "execution_count": 95,
   "id": "1ab40386-910e-4699-9bab-6c4981349ff1",
   "metadata": {
    "tags": []
   },
   "outputs": [
    {
     "data": {
      "image/png": "[encoded data removed]",
      "text/plain": [
       "<Figure size 500x300 with 1 Axes>"
      ]
     },
     "metadata": {},
     "output_type": "display_data"
    }
   ],
   "source": [
    "plt.figure(figsize=(5,3))\n",
    "sns.barplot(x=\"study_time\", y=\"final_grade\", data=filtered_df, order= ['<2 hours', '2 to 5 hours', '5 to 10 hours', '>10 hours'])\n",
    "plt.xlabel(\"\")\n",
    "plt.ylabel(\"Final grade\")\n",
    "plt.title(\"Final grade without extra support and study time\")\n",
    "plt.show()"
   ]
  },
  {
   "cell_type": "code",
   "execution_count": 96,
   "id": "e4f1c509-505b-43c0-9ab3-c8a20138c693",
   "metadata": {
    "tags": []
   },
   "outputs": [
    {
     "data": {
      "image/png": "[encoded data removed]",
      "text/plain": [
       "<Figure size 500x300 with 1 Axes>"
      ]
     },
     "metadata": {},
     "output_type": "display_data"
    }
   ],
   "source": [
    "plt.figure(figsize=(5,3))\n",
    "sns.barplot(x=\"social\", y=\"final_grade\", data=filtered_df)\n",
    "plt.xlabel(\"\")\n",
    "plt.ylabel(\"Final grade\")\n",
    "plt.title(\"Final grade with extra support and social time\")\n",
    "plt.ylim(0, 10) \n",
    "plt.show()"
   ]
  },
  {
   "cell_type": "code",
   "execution_count": null,
   "id": "cd6fab99-0e32-4bfd-b21b-c70ef084f483",
   "metadata": {},
   "outputs": [],
   "source": []
  },
  {
   "cell_type": "code",
   "execution_count": null,
   "id": "15bb02a3-036f-4907-a170-0dcdc44c04a6",
   "metadata": {},
   "outputs": [],
   "source": []
  },
  {
   "cell_type": "code",
   "execution_count": 97,
   "id": "8cdf8d49-c026-458b-90a9-60c22bbfde4e",
   "metadata": {
    "tags": []
   },
   "outputs": [],
   "source": [
    "study_time_order = [\"<2 hours\", \"2 to 5 hours\", \"5 to 10 hours\", \">10 hours\"]"
   ]
  },
  {
   "cell_type": "code",
   "execution_count": 98,
   "id": "566b4718-b870-4bdb-b9c7-f9891d8ada7b",
   "metadata": {
    "tags": []
   },
   "outputs": [
    {
     "data": {
      "text/plain": [
       "<Figure size 400x300 with 0 Axes>"
      ]
     },
     "execution_count": 98,
     "metadata": {},
     "output_type": "execute_result"
    },
    {
     "data": {
      "image/png": "[encoded data removed]",
      "text/plain": [
       "<Figure size 1500x500 with 2 Axes>"
      ]
     },
     "metadata": {},
     "output_type": "display_data"
    },
    {
     "data": {
      "text/plain": [
       "<Figure size 400x300 with 0 Axes>"
      ]
     },
     "metadata": {},
     "output_type": "display_data"
    },
    {
     "data": {
      "text/plain": [
       "<Figure size 400x300 with 0 Axes>"
      ]
     },
     "metadata": {},
     "output_type": "display_data"
    }
   ],
   "source": [
    "fig, axes = plt.subplots(figsize=(15, 5), ncols=2)\n",
    "sns.countplot(data=student_df, x=\"study_time\", order=['<2 hours', '2 to 5 hours', '5 to 10 hours', '>10 hours'], ax=axes[0])\n",
    "\n",
    "plt.figure(figsize=(4,3))\n",
    "sns.countplot(data=student_df, x='internet_access',order=['yes','no'],ax = axes[1])\n",
    "plt.figure(figsize=(4,3))\n"
   ]
  },
  {
   "cell_type": "code",
   "execution_count": 99,
   "id": "81229e39-6839-45fa-b3ad-991140d0ea33",
   "metadata": {
    "tags": []
   },
   "outputs": [
    {
     "data": {
      "text/plain": [
       "(29, 36)"
      ]
     },
     "execution_count": 99,
     "metadata": {},
     "output_type": "execute_result"
    }
   ],
   "source": [
    "filtered_zero_no_df =student_df[(student_df['AtLeastTwoYes'] == 'No') & (student_df['final_grade'] == 0)]\n",
    "filtered_zero_no_df.shape\n",
    "\n"
   ]
  },
  {
   "cell_type": "code",
   "execution_count": 100,
   "id": "855ccf69-6c3d-4ffc-a8bd-6dd3583aee9f",
   "metadata": {
    "tags": []
   },
   "outputs": [
    {
     "data": {
      "text/plain": [
       "(9, 36)"
      ]
     },
     "execution_count": 100,
     "metadata": {},
     "output_type": "execute_result"
    }
   ],
   "source": [
    "filtered_zero_yes_df =student_df[(student_df['AtLeastTwoYes'] == 'Yes') & (student_df['final_grade'] == 0)]\n",
    "filtered_zero_yes_df.shape"
   ]
  },
  {
   "cell_type": "markdown",
   "id": "07f6b924-4972-46d8-ae80-23c5e53153f1",
   "metadata": {},
   "source": [
    "on va se centrer sur les personnes qui ont eux 0 et qui n'ont pas eu de soutien scolaire cest a dire  presque 7% "
   ]
  },
  {
   "cell_type": "code",
   "execution_count": 125,
   "id": "5e755fae-ad18-4288-8633-977928c11cd9",
   "metadata": {
    "tags": []
   },
   "outputs": [
    {
     "data": {
      "text/plain": [
       "{'2 hours': 1, '2 to 5 hours': 2, '5 to 10 hours': 3, '>10 hours': 4}"
      ]
     },
     "execution_count": 125,
     "metadata": {},
     "output_type": "execute_result"
    }
   ],
   "source": [
    "study_time_mapp={\"2 hours\":1,\"2 to 5 hours\":2, \"5 to 10 hours\":3, \">10 hours\":4}\n",
    "student_df[\"study_time_num\"]= student_df[\"study_time\"].map(study_time_mapp)\n",
    "study_time_mapp"
   ]
  },
  {
   "cell_type": "code",
   "execution_count": 137,
   "id": "12162887-cf32-4367-a639-557e6efc8f20",
   "metadata": {
    "tags": []
   },
   "outputs": [
    {
     "data": {
      "image/png": "[encoded data removed]",
      "text/plain": [
       "<Figure size 640x480 with 1 Axes>"
      ]
     },
     "metadata": {},
     "output_type": "display_data"
    }
   ],
   "source": [
    "sns.boxplot( x = \"higher_ed\", y = \"study_time_num\",data= filtered_zero_yes_df)\n",
    "plt.show()"
   ]
  },
  {
   "cell_type": "code",
   "execution_count": 134,
   "id": "9bcdf1e5-c0e7-462c-8936-1856e4bcc652",
   "metadata": {
    "tags": []
   },
   "outputs": [
    {
     "data": {
      "image/png": "[encoded data removed]",
      "text/plain": [
       "<Figure size 1200x1000 with 4 Axes>"
      ]
     },
     "metadata": {},
     "output_type": "display_data"
    }
   ],
   "source": [
    "fig, ax = plt.subplots(2, 2, figsize=(12, 10))\n",
    "\n",
    "\n",
    "sns.boxplot( x = \"higher_ed\", y = \"social\", data=filtered_zero_no_df, ax=ax[0,0])\n",
    "sns.boxplot(x = \"higher_ed\", y = \"social\",data=filtered_zero_yes_df, ax=ax[0,1])\n",
    "sns.boxplot( x = \"higher_ed\", y = \"study_time_num\",data= filtered_zero_no_df, ax=ax[1,0])\n",
    "sns.boxplot( x = \"higher_ed\", y = \"study_time_num\",data= filtered_zero_yes_df, ax=ax[1,1])\n",
    " \n",
    "#ax[0,0].set_xticklabels(ax[0].get_xticklabels(), rotation=45, ha='right', rotation_mode='anchor')\n",
    "#ax[0,1].set_xticklabels(ax[1].get_xticklabels(), rotation=45, ha='right', rotation_mode='anchor')   \n",
    "\n",
    "plt.subplots_adjust(wspace=2)\n",
    "\n",
    "ax[0,0].set_xlabel('')\n",
    "ax[0,1].set_xlabel('')\n",
    "ax[1,0].set_xlabel('')\n",
    "ax[1,1].set_xlabel('')\n",
    "\n",
    "axes[0,0].set_ylabel(\"Social\")\n",
    "axes[1,0].set_ylabel(\"Social\")\n",
    "axes[0,1].set_ylabel(\"Study Time\")\n",
    "axes[1,1].set_ylabel(\"Study Time\")\n",
    "\n",
    "\n",
    "plt.show()"
   ]
  },
  {
   "cell_type": "markdown",
   "id": "b22eb3ec-491f-4b58-abf9-d6f7bc6c9e79",
   "metadata": {},
   "source": [
    "ici nous avons 4 graphes. ceux de droite ont au moins deux aides extra scolaire et ceux de gauches non. on peut voir que les gens qui ont des aides ont tous la volonte de faire des etudes meme si leur note est  de 0. \n",
    "Du cote des personnes n'ayant pas eu d'aide ils ne souhaitent pas tous faire des etudes. On peut penser que pour eux les etudes sont moins importante car il passe plus de temps a sortir et moins de temps a travailler."
   ]
  },
  {
   "cell_type": "code",
   "execution_count": null,
   "id": "3877d525-08b5-45a2-8731-64d932815206",
   "metadata": {},
   "outputs": [],
   "source": []
  },
  {
   "cell_type": "code",
   "execution_count": null,
   "id": "69cff8fb-358f-4b83-8f4f-6d77319d03ed",
   "metadata": {},
   "outputs": [],
   "source": []
  },
  {
   "cell_type": "code",
   "execution_count": null,
   "id": "6f5f48d9-4b9e-47a2-b33d-b4a41fc84bf0",
   "metadata": {},
   "outputs": [],
   "source": []
  },
  {
   "cell_type": "code",
   "execution_count": null,
   "id": "70ed6e72-de54-4a4d-a36f-5e89658839a1",
   "metadata": {},
   "outputs": [],
   "source": []
  },
  {
   "cell_type": "markdown",
   "id": "3f15fb8c-9119-486e-92b0-39d3a75de570",
   "metadata": {},
   "source": [
    "In this box plot, we have tried to see whether a student who receives at least two additional teaching supports will have a higher final grade.\n",
    "For students with less than 2 extra supports, we see that the final grade is more evenly distributed than for students with more than 2. We note that only the student in the group with less than 2 extra supports reached 20. Furthermore, the only exception on this graph is a student who received 0 even though he benefited from more than 2 additional supports (Internet access and tutoring, he did not benefit from an extra class paid for by the school). \n",
    "In conclusion, we can see that there is no link between the private tutoring a student receives and his final grade."
   ]
  },
  {
   "cell_type": "markdown",
   "id": "2ecb5843-6b65-49cf-b14d-566c45ff0386",
   "metadata": {},
   "source": [
    "###essai"
   ]
  },
  {
   "cell_type": "code",
   "execution_count": null,
   "id": "5a39fcec-68ae-4333-a76e-1d09622142b2",
   "metadata": {
    "tags": []
   },
   "outputs": [],
   "source": [
    "high_grade= student_df[student_df['final_grade']>=15]\n",
    "\n",
    "# Accéder à l'index des lignes où final_grade >= 15\n",
    "index_high_grade = student_df.index[student_df['final_grade'] >= 15].tolist()"
   ]
  },
  {
   "cell_type": "code",
   "execution_count": null,
   "id": "51aee8b3-aed8-4017-95e1-d750fcd0fba1",
   "metadata": {
    "tags": []
   },
   "outputs": [],
   "source": [
    "plt.figure(figsize=(5,3))\n",
    "sns.barplot(x=\"AtLeastTwoYes\", y=\"final_grade\", hue=\"social\",  errorbar=None, data=student_df), \n",
    "#bbox_to_anchor=(1.04, 0.5), \n",
    "#loc=\"center left\"\n",
    "\n",
    "plt.xlabel(\"\")\n",
    "plt.ylabel(\"Final grade\")\n",
    "plt.title(\"Final grade with extra support and social time\")\n",
    "\n",
    "plt.legend(loc='upper right',bbox_to_anchor=(1.2,0.7 ))\n",
    "plt.show()\n"
   ]
  },
  {
   "cell_type": "code",
   "execution_count": 144,
   "id": "4cbc7e69-fd80-424d-bad6-4fa88c24fb97",
   "metadata": {
    "tags": []
   },
   "outputs": [
    {
     "data": {
      "image/png": "[encoded data removed]",
      "text/plain": [
       "<Figure size 500x300 with 1 Axes>"
      ]
     },
     "metadata": {},
     "output_type": "display_data"
    }
   ],
   "source": [
    "plt.figure(figsize=(5,3))\n",
    "sns.barplot(x=\"AtLeastTwoYes\", y=\"final_grade\", hue=\"study_time\",  errorbar=None, data=student_df)\n",
    "plt.xlabel(\"\")\n",
    "plt.ylabel(\"Final grade\")\n",
    "plt.title(\"Final grade with extra support and social time\")\n",
    "plt.legend(loc='upper right',bbox_to_anchor=(1.4,0.7 ))\n",
    "plt.show()\n",
    "\n"
   ]
  },
  {
   "cell_type": "code",
   "execution_count": null,
   "id": "93165380-bf9c-4792-a772-e3bda59b1d5c",
   "metadata": {
    "tags": []
   },
   "outputs": [],
   "source": [
    "sns.barplot(x=\"social\", y=\"final_grade\", hue=\"AtLeastTwoYes\",  data=student_df)\n",
    "plt.legend(loc='upper right',bbox_to_anchor=(1.2,0.7 ))\n",
    "plt.show()\n"
   ]
  },
  {
   "cell_type": "code",
   "execution_count": null,
   "id": "935decfd-1354-4a4c-a549-d54c56c561bd",
   "metadata": {
    "tags": []
   },
   "outputs": [],
   "source": []
  },
  {
   "cell_type": "code",
   "execution_count": null,
   "id": "4cffab73-4ddd-4f1c-9ca5-239067d2b67b",
   "metadata": {
    "tags": []
   },
   "outputs": [],
   "source": [
    "sns.barplot(x=\"study_time_num\", y=\"final_grade\", hue=\"AtLeastTwoYes\",  data=student_df)\n",
    "plt.show()"
   ]
  },
  {
   "cell_type": "code",
   "execution_count": null,
   "id": "b38cfbdb-3d41-43c4-8309-5003e0a02d78",
   "metadata": {},
   "outputs": [],
   "source": []
  },
  {
   "cell_type": "code",
   "execution_count": null,
   "id": "e79599d2-c253-48b9-8e0a-9e3ab58edc7b",
   "metadata": {},
   "outputs": [],
   "source": []
  },
  {
   "cell_type": "code",
   "execution_count": null,
   "id": "d6d65c3e-1979-447e-989f-99497c33dc13",
   "metadata": {},
   "outputs": [],
   "source": []
  },
  {
   "cell_type": "code",
   "execution_count": null,
   "id": "bc30332b-4e16-4749-8032-7273d10a1db9",
   "metadata": {},
   "outputs": [],
   "source": []
  },
  {
   "cell_type": "code",
   "execution_count": null,
   "id": "3ddd8ddc-aacd-41bb-ad90-fe186daec174",
   "metadata": {},
   "outputs": [],
   "source": []
  },
  {
   "cell_type": "code",
   "execution_count": null,
   "id": "0e666dbd-3d73-4a4f-b9d5-02bdf92ac582",
   "metadata": {},
   "outputs": [],
   "source": []
  },
  {
   "cell_type": "code",
   "execution_count": null,
   "id": "514f1a2d-8686-4a3a-bbca-553ea32850c4",
   "metadata": {},
   "outputs": [],
   "source": []
  },
  {
   "cell_type": "code",
   "execution_count": null,
   "id": "308dd801-fc8a-4a89-a2a0-2fc4b9f226a4",
   "metadata": {},
   "outputs": [],
   "source": []
  },
  {
   "cell_type": "code",
   "execution_count": null,
   "id": "53fd2d43-3e7b-4ed6-92db-ba953d28eeb1",
   "metadata": {},
   "outputs": [],
   "source": []
  },
  {
   "cell_type": "code",
   "execution_count": null,
   "id": "67289038-100d-4925-822b-2373ac7d8059",
   "metadata": {},
   "outputs": [],
   "source": []
  },
  {
   "cell_type": "code",
   "execution_count": null,
   "id": "7ebda293-f623-4969-8971-77fab569ace0",
   "metadata": {},
   "outputs": [],
   "source": []
  },
  {
   "cell_type": "code",
   "execution_count": null,
   "id": "11856ddd-c3ad-4472-89fe-18bb39416c9c",
   "metadata": {},
   "outputs": [],
   "source": []
  },
  {
   "cell_type": "code",
   "execution_count": null,
   "id": "52d225bc-a7e6-4354-9046-b61432412a86",
   "metadata": {},
   "outputs": [],
   "source": []
  },
  {
   "cell_type": "code",
   "execution_count": null,
   "id": "7ca0dad7-f228-4d00-8fbc-60383732220b",
   "metadata": {},
   "outputs": [],
   "source": []
  },
  {
   "cell_type": "code",
   "execution_count": null,
   "id": "17153104-351a-40de-99b6-49dd33b4f9a4",
   "metadata": {},
   "outputs": [],
   "source": []
  },
  {
   "cell_type": "code",
   "execution_count": null,
   "id": "75302d55-8eec-4840-b174-ffc7781f88b3",
   "metadata": {},
   "outputs": [],
   "source": []
  },
  {
   "cell_type": "code",
   "execution_count": null,
   "id": "cf54cfea-992f-435a-89be-490fdb309a08",
   "metadata": {},
   "outputs": [],
   "source": []
  },
  {
   "cell_type": "code",
   "execution_count": null,
   "id": "dcb53030-5669-478a-b071-9c6b3f32c78d",
   "metadata": {},
   "outputs": [],
   "source": []
  },
  {
   "cell_type": "code",
   "execution_count": null,
   "id": "c92dc616-91d6-4392-b845-531666980ef2",
   "metadata": {},
   "outputs": [],
   "source": []
  },
  {
   "cell_type": "code",
   "execution_count": null,
   "id": "7fc607a5-a68a-4b3e-8032-f752f8f65415",
   "metadata": {},
   "outputs": [],
   "source": []
  },
  {
   "cell_type": "markdown",
   "id": "13bc7c87-af70-4a5c-abb3-1880e3114064",
   "metadata": {},
   "source": [
    "\n"
   ]
  },
  {
   "cell_type": "code",
   "execution_count": null,
   "id": "4ac48883-8b99-4bcb-8c8f-25de15f6c63f",
   "metadata": {
    "tags": []
   },
   "outputs": [],
   "source": []
  },
  {
   "cell_type": "code",
   "execution_count": null,
   "id": "691dc160-daec-41e7-9a63-45974c9edf5c",
   "metadata": {},
   "outputs": [],
   "source": []
  },
  {
   "cell_type": "markdown",
   "id": "4c58ee1b-27fd-49f3-b87b-d3fa61a9004c",
   "metadata": {
    "tags": []
   },
   "source": [
    "After comparing the data we have, and the potential academic and social factors, we can see that academic factors do not influence the final grade. however, social factors have a more significant influence on our students' grades."
   ]
  },
  {
   "cell_type": "markdown",
   "id": "3d198007-382d-4599-916a-a7b5ab7e0538",
   "metadata": {},
   "source": [
    "#### 2. The influence of family status on class failures"
   ]
  },
  {
   "cell_type": "code",
   "execution_count": 142,
   "id": "250ad97a-33bc-4d0c-8b91-4681d5f2fae6",
   "metadata": {
    "tags": []
   },
   "outputs": [
    {
     "ename": "AttributeError",
     "evalue": "'numpy.ndarray' object has no attribute 'patches'",
     "output_type": "error",
     "traceback": [
      "\u001b[0;31m---------------------------------------------------------------------------\u001b[0m",
      "\u001b[0;31mAttributeError\u001b[0m                            Traceback (most recent call last)",
      "Cell \u001b[0;32mIn[142], line 2\u001b[0m\n\u001b[1;32m      1\u001b[0m sns\u001b[38;5;241m.\u001b[39mcountplot(x\u001b[38;5;241m=\u001b[39m\u001b[38;5;124m\"\u001b[39m\u001b[38;5;124maddress_type\u001b[39m\u001b[38;5;124m\"\u001b[39m, data\u001b[38;5;241m=\u001b[39mstudent_df)\n\u001b[0;32m----> 2\u001b[0m \u001b[38;5;28;01mfor\u001b[39;00m p \u001b[38;5;129;01min\u001b[39;00m ax\u001b[38;5;241m.\u001b[39mpatches:\n\u001b[1;32m      3\u001b[0m     height \u001b[38;5;241m=\u001b[39m p\u001b[38;5;241m.\u001b[39mget_height()\n\u001b[1;32m      4\u001b[0m     ax\u001b[38;5;241m.\u001b[39mannotate(\u001b[38;5;124mf\u001b[39m\u001b[38;5;124m'\u001b[39m\u001b[38;5;132;01m{\u001b[39;00mheight\u001b[38;5;132;01m}\u001b[39;00m\u001b[38;5;124m'\u001b[39m, (p\u001b[38;5;241m.\u001b[39mget_x() \u001b[38;5;241m+\u001b[39m p\u001b[38;5;241m.\u001b[39mget_width() \u001b[38;5;241m/\u001b[39m \u001b[38;5;241m2.\u001b[39m, height),\n\u001b[1;32m      5\u001b[0m                 ha\u001b[38;5;241m=\u001b[39m\u001b[38;5;124m'\u001b[39m\u001b[38;5;124mcenter\u001b[39m\u001b[38;5;124m'\u001b[39m, va\u001b[38;5;241m=\u001b[39m\u001b[38;5;124m'\u001b[39m\u001b[38;5;124mcenter\u001b[39m\u001b[38;5;124m'\u001b[39m, xytext\u001b[38;5;241m=\u001b[39m(\u001b[38;5;241m0\u001b[39m, \u001b[38;5;241m5\u001b[39m), textcoords\u001b[38;5;241m=\u001b[39m\u001b[38;5;124m'\u001b[39m\u001b[38;5;124moffset points\u001b[39m\u001b[38;5;124m'\u001b[39m)\n",
      "\u001b[0;31mAttributeError\u001b[0m: 'numpy.ndarray' object has no attribute 'patches'"
     ]
    },
    {
     "data": {
      "image/png": "[encoded data removed]",
      "text/plain": [
       "<Figure size 640x480 with 1 Axes>"
      ]
     },
     "metadata": {},
     "output_type": "display_data"
    }
   ],
   "source": [
    "sns.countplot(x=\"address_type\", data=student_df)\n",
    "plt.show()"
   ]
  },
  {
   "cell_type": "code",
   "execution_count": 143,
   "id": "55e762b6-f5d7-40ed-99b8-d2e39e48188c",
   "metadata": {
    "tags": []
   },
   "outputs": [
    {
     "data": {
      "image/png": "[encoded data removed]",
      "text/plain": [
       "<Figure size 800x600 with 1 Axes>"
      ]
     },
     "metadata": {},
     "output_type": "display_data"
    }
   ],
   "source": [
    "\n",
    "\n",
    "# Créer le countplot et l'associer à une variable ax\n",
    "plt.figure(figsize=(8, 6))\n",
    "ax = sns.countplot(x=\"address_type\", data=student_df)\n",
    "\n",
    "# Ajouter les chiffres sur chaque barre\n",
    "for p in ax.patches:\n",
    "    height = p.get_height()\n",
    "    ax.annotate(f'{height}', (p.get_x() + p.get_width() / 2., height),\n",
    "                ha='center', va='bottom', xytext=(0, 5), textcoords='offset points')\n",
    "\n",
    "# Afficher le graphique\n",
    "plt.show()\n"
   ]
  },
  {
   "cell_type": "code",
   "execution_count": null,
   "id": "ab1995f9-23fe-45a3-af88-249af8e948e7",
   "metadata": {
    "tags": []
   },
   "outputs": [],
   "source": []
  },
  {
   "cell_type": "code",
   "execution_count": 148,
   "id": "89e73e02-3796-41f7-bb01-1bde0e063183",
   "metadata": {
    "tags": []
   },
   "outputs": [
    {
     "data": {
      "text/html": [
       "<div>\n",
       "<style scoped>\n",
       "    .dataframe tbody tr th:only-of-type {\n",
       "        vertical-align: middle;\n",
       "    }\n",
       "\n",
       "    .dataframe tbody tr th {\n",
       "        vertical-align: top;\n",
       "    }\n",
       "\n",
       "    .dataframe thead th {\n",
       "        text-align: right;\n",
       "    }\n",
       "</style>\n",
       "<table border=\"1\" class=\"dataframe\">\n",
       "  <thead>\n",
       "    <tr style=\"text-align: right;\">\n",
       "      <th></th>\n",
       "      <th>student_id</th>\n",
       "      <th>school</th>\n",
       "      <th>sex</th>\n",
       "      <th>age</th>\n",
       "      <th>address_type</th>\n",
       "      <th>family_size</th>\n",
       "      <th>parent_status</th>\n",
       "      <th>mother_education</th>\n",
       "      <th>father_education</th>\n",
       "      <th>mother_job</th>\n",
       "      <th>...</th>\n",
       "      <th>social</th>\n",
       "      <th>weekday_alcohol</th>\n",
       "      <th>weekend_alcohol</th>\n",
       "      <th>health</th>\n",
       "      <th>absences</th>\n",
       "      <th>grade_1</th>\n",
       "      <th>grade_2</th>\n",
       "      <th>final_grade</th>\n",
       "      <th>AtLeastTwoYes</th>\n",
       "      <th>study_time_num</th>\n",
       "    </tr>\n",
       "  </thead>\n",
       "  <tbody>\n",
       "    <tr>\n",
       "      <th>24</th>\n",
       "      <td>25</td>\n",
       "      <td>GP</td>\n",
       "      <td>F</td>\n",
       "      <td>15</td>\n",
       "      <td>Rural</td>\n",
       "      <td>Greater than 3</td>\n",
       "      <td>Living together</td>\n",
       "      <td>5th to 9th grade</td>\n",
       "      <td>higher education</td>\n",
       "      <td>services</td>\n",
       "      <td>...</td>\n",
       "      <td>2</td>\n",
       "      <td>1</td>\n",
       "      <td>1</td>\n",
       "      <td>5</td>\n",
       "      <td>2</td>\n",
       "      <td>10</td>\n",
       "      <td>9</td>\n",
       "      <td>8</td>\n",
       "      <td>Yes</td>\n",
       "      <td>3.0</td>\n",
       "    </tr>\n",
       "    <tr>\n",
       "      <th>32</th>\n",
       "      <td>33</td>\n",
       "      <td>GP</td>\n",
       "      <td>M</td>\n",
       "      <td>15</td>\n",
       "      <td>Rural</td>\n",
       "      <td>Greater than 3</td>\n",
       "      <td>Living together</td>\n",
       "      <td>higher education</td>\n",
       "      <td>secondary education</td>\n",
       "      <td>teacher</td>\n",
       "      <td>...</td>\n",
       "      <td>2</td>\n",
       "      <td>1</td>\n",
       "      <td>1</td>\n",
       "      <td>5</td>\n",
       "      <td>0</td>\n",
       "      <td>17</td>\n",
       "      <td>16</td>\n",
       "      <td>16</td>\n",
       "      <td>No</td>\n",
       "      <td>2.0</td>\n",
       "    </tr>\n",
       "    <tr>\n",
       "      <th>37</th>\n",
       "      <td>38</td>\n",
       "      <td>GP</td>\n",
       "      <td>M</td>\n",
       "      <td>16</td>\n",
       "      <td>Rural</td>\n",
       "      <td>Greater than 3</td>\n",
       "      <td>Apart</td>\n",
       "      <td>higher education</td>\n",
       "      <td>higher education</td>\n",
       "      <td>other</td>\n",
       "      <td>...</td>\n",
       "      <td>3</td>\n",
       "      <td>1</td>\n",
       "      <td>1</td>\n",
       "      <td>5</td>\n",
       "      <td>7</td>\n",
       "      <td>15</td>\n",
       "      <td>16</td>\n",
       "      <td>15</td>\n",
       "      <td>No</td>\n",
       "      <td>3.0</td>\n",
       "    </tr>\n",
       "    <tr>\n",
       "      <th>38</th>\n",
       "      <td>39</td>\n",
       "      <td>GP</td>\n",
       "      <td>F</td>\n",
       "      <td>15</td>\n",
       "      <td>Rural</td>\n",
       "      <td>Greater than 3</td>\n",
       "      <td>Living together</td>\n",
       "      <td>secondary education</td>\n",
       "      <td>higher education</td>\n",
       "      <td>services</td>\n",
       "      <td>...</td>\n",
       "      <td>2</td>\n",
       "      <td>1</td>\n",
       "      <td>1</td>\n",
       "      <td>5</td>\n",
       "      <td>2</td>\n",
       "      <td>12</td>\n",
       "      <td>12</td>\n",
       "      <td>11</td>\n",
       "      <td>Yes</td>\n",
       "      <td>3.0</td>\n",
       "    </tr>\n",
       "    <tr>\n",
       "      <th>39</th>\n",
       "      <td>40</td>\n",
       "      <td>GP</td>\n",
       "      <td>F</td>\n",
       "      <td>15</td>\n",
       "      <td>Rural</td>\n",
       "      <td>Greater than 3</td>\n",
       "      <td>Living together</td>\n",
       "      <td>5th to 9th grade</td>\n",
       "      <td>5th to 9th grade</td>\n",
       "      <td>at_home</td>\n",
       "      <td>...</td>\n",
       "      <td>1</td>\n",
       "      <td>1</td>\n",
       "      <td>1</td>\n",
       "      <td>2</td>\n",
       "      <td>8</td>\n",
       "      <td>14</td>\n",
       "      <td>13</td>\n",
       "      <td>13</td>\n",
       "      <td>Yes</td>\n",
       "      <td>NaN</td>\n",
       "    </tr>\n",
       "    <tr>\n",
       "      <th>...</th>\n",
       "      <td>...</td>\n",
       "      <td>...</td>\n",
       "      <td>...</td>\n",
       "      <td>...</td>\n",
       "      <td>...</td>\n",
       "      <td>...</td>\n",
       "      <td>...</td>\n",
       "      <td>...</td>\n",
       "      <td>...</td>\n",
       "      <td>...</td>\n",
       "      <td>...</td>\n",
       "      <td>...</td>\n",
       "      <td>...</td>\n",
       "      <td>...</td>\n",
       "      <td>...</td>\n",
       "      <td>...</td>\n",
       "      <td>...</td>\n",
       "      <td>...</td>\n",
       "      <td>...</td>\n",
       "      <td>...</td>\n",
       "      <td>...</td>\n",
       "    </tr>\n",
       "    <tr>\n",
       "      <th>385</th>\n",
       "      <td>386</td>\n",
       "      <td>MS</td>\n",
       "      <td>F</td>\n",
       "      <td>18</td>\n",
       "      <td>Rural</td>\n",
       "      <td>Greater than 3</td>\n",
       "      <td>Living together</td>\n",
       "      <td>5th to 9th grade</td>\n",
       "      <td>5th to 9th grade</td>\n",
       "      <td>at_home</td>\n",
       "      <td>...</td>\n",
       "      <td>3</td>\n",
       "      <td>1</td>\n",
       "      <td>3</td>\n",
       "      <td>4</td>\n",
       "      <td>2</td>\n",
       "      <td>10</td>\n",
       "      <td>9</td>\n",
       "      <td>10</td>\n",
       "      <td>No</td>\n",
       "      <td>3.0</td>\n",
       "    </tr>\n",
       "    <tr>\n",
       "      <th>386</th>\n",
       "      <td>387</td>\n",
       "      <td>MS</td>\n",
       "      <td>F</td>\n",
       "      <td>18</td>\n",
       "      <td>Rural</td>\n",
       "      <td>Greater than 3</td>\n",
       "      <td>Living together</td>\n",
       "      <td>higher education</td>\n",
       "      <td>higher education</td>\n",
       "      <td>teacher</td>\n",
       "      <td>...</td>\n",
       "      <td>3</td>\n",
       "      <td>2</td>\n",
       "      <td>2</td>\n",
       "      <td>5</td>\n",
       "      <td>7</td>\n",
       "      <td>6</td>\n",
       "      <td>5</td>\n",
       "      <td>6</td>\n",
       "      <td>Yes</td>\n",
       "      <td>NaN</td>\n",
       "    </tr>\n",
       "    <tr>\n",
       "      <th>387</th>\n",
       "      <td>388</td>\n",
       "      <td>MS</td>\n",
       "      <td>F</td>\n",
       "      <td>19</td>\n",
       "      <td>Rural</td>\n",
       "      <td>Greater than 3</td>\n",
       "      <td>Living together</td>\n",
       "      <td>5th to 9th grade</td>\n",
       "      <td>secondary education</td>\n",
       "      <td>services</td>\n",
       "      <td>...</td>\n",
       "      <td>2</td>\n",
       "      <td>1</td>\n",
       "      <td>2</td>\n",
       "      <td>5</td>\n",
       "      <td>0</td>\n",
       "      <td>7</td>\n",
       "      <td>5</td>\n",
       "      <td>0</td>\n",
       "      <td>No</td>\n",
       "      <td>3.0</td>\n",
       "    </tr>\n",
       "    <tr>\n",
       "      <th>392</th>\n",
       "      <td>393</td>\n",
       "      <td>MS</td>\n",
       "      <td>M</td>\n",
       "      <td>21</td>\n",
       "      <td>Rural</td>\n",
       "      <td>Greater than 3</td>\n",
       "      <td>Living together</td>\n",
       "      <td>primary education (4th grade)</td>\n",
       "      <td>primary education (4th grade)</td>\n",
       "      <td>other</td>\n",
       "      <td>...</td>\n",
       "      <td>3</td>\n",
       "      <td>3</td>\n",
       "      <td>3</td>\n",
       "      <td>3</td>\n",
       "      <td>3</td>\n",
       "      <td>10</td>\n",
       "      <td>8</td>\n",
       "      <td>7</td>\n",
       "      <td>No</td>\n",
       "      <td>NaN</td>\n",
       "    </tr>\n",
       "    <tr>\n",
       "      <th>393</th>\n",
       "      <td>394</td>\n",
       "      <td>MS</td>\n",
       "      <td>M</td>\n",
       "      <td>18</td>\n",
       "      <td>Rural</td>\n",
       "      <td>Less than or equal to 3</td>\n",
       "      <td>Living together</td>\n",
       "      <td>secondary education</td>\n",
       "      <td>5th to 9th grade</td>\n",
       "      <td>services</td>\n",
       "      <td>...</td>\n",
       "      <td>1</td>\n",
       "      <td>3</td>\n",
       "      <td>4</td>\n",
       "      <td>5</td>\n",
       "      <td>0</td>\n",
       "      <td>11</td>\n",
       "      <td>12</td>\n",
       "      <td>10</td>\n",
       "      <td>No</td>\n",
       "      <td>NaN</td>\n",
       "    </tr>\n",
       "  </tbody>\n",
       "</table>\n",
       "<p>88 rows × 36 columns</p>\n",
       "</div>"
      ],
      "text/plain": [
       "     student_id school sex  age address_type              family_size  \\\n",
       "24           25     GP   F   15        Rural           Greater than 3   \n",
       "32           33     GP   M   15        Rural           Greater than 3   \n",
       "37           38     GP   M   16        Rural           Greater than 3   \n",
       "38           39     GP   F   15        Rural           Greater than 3   \n",
       "39           40     GP   F   15        Rural           Greater than 3   \n",
       "..          ...    ...  ..  ...          ...                      ...   \n",
       "385         386     MS   F   18        Rural           Greater than 3   \n",
       "386         387     MS   F   18        Rural           Greater than 3   \n",
       "387         388     MS   F   19        Rural           Greater than 3   \n",
       "392         393     MS   M   21        Rural           Greater than 3   \n",
       "393         394     MS   M   18        Rural  Less than or equal to 3   \n",
       "\n",
       "       parent_status               mother_education  \\\n",
       "24   Living together               5th to 9th grade   \n",
       "32   Living together               higher education   \n",
       "37             Apart               higher education   \n",
       "38   Living together            secondary education   \n",
       "39   Living together               5th to 9th grade   \n",
       "..               ...                            ...   \n",
       "385  Living together               5th to 9th grade   \n",
       "386  Living together               higher education   \n",
       "387  Living together               5th to 9th grade   \n",
       "392  Living together  primary education (4th grade)   \n",
       "393  Living together            secondary education   \n",
       "\n",
       "                  father_education mother_job  ... social weekday_alcohol  \\\n",
       "24                higher education   services  ...      2               1   \n",
       "32             secondary education    teacher  ...      2               1   \n",
       "37                higher education      other  ...      3               1   \n",
       "38                higher education   services  ...      2               1   \n",
       "39                5th to 9th grade    at_home  ...      1               1   \n",
       "..                             ...        ...  ...    ...             ...   \n",
       "385               5th to 9th grade    at_home  ...      3               1   \n",
       "386               higher education    teacher  ...      3               2   \n",
       "387            secondary education   services  ...      2               1   \n",
       "392  primary education (4th grade)      other  ...      3               3   \n",
       "393               5th to 9th grade   services  ...      1               3   \n",
       "\n",
       "    weekend_alcohol health absences  grade_1 grade_2 final_grade  \\\n",
       "24                1      5        2       10       9           8   \n",
       "32                1      5        0       17      16          16   \n",
       "37                1      5        7       15      16          15   \n",
       "38                1      5        2       12      12          11   \n",
       "39                1      2        8       14      13          13   \n",
       "..              ...    ...      ...      ...     ...         ...   \n",
       "385               3      4        2       10       9          10   \n",
       "386               2      5        7        6       5           6   \n",
       "387               2      5        0        7       5           0   \n",
       "392               3      3        3       10       8           7   \n",
       "393               4      5        0       11      12          10   \n",
       "\n",
       "    AtLeastTwoYes study_time_num  \n",
       "24            Yes            3.0  \n",
       "32             No            2.0  \n",
       "37             No            3.0  \n",
       "38            Yes            3.0  \n",
       "39            Yes            NaN  \n",
       "..            ...            ...  \n",
       "385            No            3.0  \n",
       "386           Yes            NaN  \n",
       "387            No            3.0  \n",
       "392            No            NaN  \n",
       "393            No            NaN  \n",
       "\n",
       "[88 rows x 36 columns]"
      ]
     },
     "execution_count": 148,
     "metadata": {},
     "output_type": "execute_result"
    }
   ],
   "source": [
    "filtered_rural = student_df[(student_df['address_type']=='Rural')]\n",
    "filtered_rural"
   ]
  },
  {
   "cell_type": "code",
   "execution_count": null,
   "id": "8539679f-63ae-42fc-bc8d-352f516f14be",
   "metadata": {},
   "outputs": [],
   "source": []
  },
  {
   "cell_type": "code",
   "execution_count": null,
   "id": "5a6b057b-43d2-44d0-9ea6-bbab68fd3404",
   "metadata": {},
   "outputs": [],
   "source": []
  },
  {
   "cell_type": "code",
   "execution_count": null,
   "id": "3a5eb2e0-18ce-4478-a481-5b02a9abc0de",
   "metadata": {},
   "outputs": [],
   "source": []
  },
  {
   "cell_type": "code",
   "execution_count": null,
   "id": "fc8a745e-0efe-4c2d-b36b-d8da9bd4bda2",
   "metadata": {},
   "outputs": [],
   "source": []
  },
  {
   "cell_type": "code",
   "execution_count": null,
   "id": "473e5e8d-7153-40a6-aae1-866e3d3eb017",
   "metadata": {},
   "outputs": [],
   "source": []
  },
  {
   "cell_type": "code",
   "execution_count": null,
   "id": "cee9f7be-7726-403a-abce-b30686e9dc2f",
   "metadata": {
    "tags": []
   },
   "outputs": [],
   "source": [
    "all_features=['absences', 'class_failures', 'final_grade','family_size','health']"
   ]
  },
  {
   "cell_type": "code",
   "execution_count": null,
   "id": "c74964ec-9065-4506-b089-7a3156bd1d4f",
   "metadata": {
    "tags": []
   },
   "outputs": [],
   "source": [
    "student_df.loc[student_df['family_size'] ==\"Greater than 3\", 'family_size'] = 4\n",
    "student_df.loc[student_df['family_size'] ==\"Less than or equal to 3\", 'family_size'] = 3"
   ]
  },
  {
   "cell_type": "code",
   "execution_count": null,
   "id": "a3e76b1a-0830-4d28-8015-a442960fd1a8",
   "metadata": {
    "tags": []
   },
   "outputs": [],
   "source": [
    "subset_df = student_df.loc[:, ['absences', 'class_failures', 'final_grade','family_size','health']]"
   ]
  },
  {
   "cell_type": "code",
   "execution_count": null,
   "id": "1569bf5f-c91b-41cb-80c4-4acced472e43",
   "metadata": {
    "tags": []
   },
   "outputs": [],
   "source": [
    "correlation_matrix=subset_df.corr(numeric_only = False, method = 'spearman' ).round(2)\n",
    "subset_correlation_matrix = correlation_matrix[all_features].transpose()\n",
    "subset_correlation_matrix"
   ]
  },
  {
   "cell_type": "code",
   "execution_count": null,
   "id": "79356975-6d9e-4624-98c5-ca87e1a48d3f",
   "metadata": {
    "tags": []
   },
   "outputs": [],
   "source": [
    "plt.figure(figsize=(17,2))\n",
    "sns.heatmap(data=subset_correlation_matrix,cmap='coolwarm', annot=True, xticklabels=subset_df.columns.tolist(), yticklabels=all_features)\n",
    "plt.show()"
   ]
  },
  {
   "cell_type": "code",
   "execution_count": null,
   "id": "7f7109ec-5ca4-4054-8c77-417121d544cc",
   "metadata": {},
   "outputs": [],
   "source": []
  },
  {
   "cell_type": "code",
   "execution_count": null,
   "id": "6dfb6a21-3f33-4910-a004-05aee9787a3b",
   "metadata": {},
   "outputs": [],
   "source": [
    "##grosse fammille+personne qui habitent a campagne+bcp d'alcool"
   ]
  },
  {
   "cell_type": "code",
   "execution_count": null,
   "id": "a254b947-bb78-43cf-b281-7f45d39e7ffd",
   "metadata": {
    "tags": []
   },
   "outputs": [],
   "source": [
    "alcoolist=student_df[student_df['weekday_alcohol']==5]"
   ]
  },
  {
   "cell_type": "code",
   "execution_count": null,
   "id": "c22db0d9-7366-47ef-b57b-7eba700c2795",
   "metadata": {
    "tags": []
   },
   "outputs": [],
   "source": [
    "campagne=student_df[student_df['address_type']=='Rural']"
   ]
  },
  {
   "cell_type": "code",
   "execution_count": null,
   "id": "7d3dbf3c-c2e8-4877-a61a-f5eb34cd3c25",
   "metadata": {
    "tags": []
   },
   "outputs": [],
   "source": [
    "big_family=student_df[student_df['family_size']=='Greater than 3']"
   ]
  },
  {
   "cell_type": "code",
   "execution_count": null,
   "id": "80625798-8bf5-4063-9879-795da86e9397",
   "metadata": {
    "tags": []
   },
   "outputs": [],
   "source": [
    "address_mapp={'Rural':0,'Urban':1}\n",
    "student_df[\"address_num\"]= student_df[\"address_type\"].map(address_mapp)"
   ]
  },
  {
   "cell_type": "code",
   "execution_count": null,
   "id": "42f926e4-536f-4d20-bf31-f505ab9ee9a8",
   "metadata": {
    "tags": []
   },
   "outputs": [],
   "source": [
    " sns.barplot(y='weekday_alcohol', x='address_num', data=student_df)\n",
    "\n",
    "plt.show()"
   ]
  },
  {
   "cell_type": "code",
   "execution_count": null,
   "id": "88c3e4f9-b35b-473f-bb73-43672aa2c2a1",
   "metadata": {},
   "outputs": [],
   "source": [
    "### as we can see the people who are leaving in rural are drinking more we will see if it's influencing the study time"
   ]
  },
  {
   "cell_type": "code",
   "execution_count": null,
   "id": "00a45b87-11d6-4863-9d16-2f72965697e4",
   "metadata": {},
   "outputs": [],
   "source": []
  },
  {
   "cell_type": "code",
   "execution_count": null,
   "id": "9207c04b-16e2-4f62-b735-295c5347e720",
   "metadata": {},
   "outputs": [],
   "source": []
  },
  {
   "cell_type": "code",
   "execution_count": null,
   "id": "d9fe3fb1-02e3-4464-8aab-a4770d02826a",
   "metadata": {},
   "outputs": [],
   "source": []
  },
  {
   "cell_type": "code",
   "execution_count": null,
   "id": "de9d6e50-0829-4c6e-841f-52f694e23059",
   "metadata": {},
   "outputs": [],
   "source": []
  },
  {
   "cell_type": "code",
   "execution_count": null,
   "id": "4d96d0ae-85b1-4e48-ba4e-d750f07cef3d",
   "metadata": {},
   "outputs": [],
   "source": []
  },
  {
   "cell_type": "code",
   "execution_count": null,
   "id": "5661cc50-8591-4109-8197-50146972c5d2",
   "metadata": {},
   "outputs": [],
   "source": []
  },
  {
   "cell_type": "code",
   "execution_count": null,
   "id": "f946b75f-fe04-43d5-bae1-8ffc6fa71ea5",
   "metadata": {},
   "outputs": [],
   "source": []
  },
  {
   "cell_type": "code",
   "execution_count": null,
   "id": "60c588d9-783b-48f5-a0ea-51243f34bd35",
   "metadata": {},
   "outputs": [],
   "source": []
  },
  {
   "cell_type": "code",
   "execution_count": null,
   "id": "8d824883-7e7a-4f2c-86a4-fdbeb4ca87e3",
   "metadata": {},
   "outputs": [],
   "source": []
  },
  {
   "cell_type": "code",
   "execution_count": null,
   "id": "4d53801f-23b2-4b99-b52b-ce698bd3d0cb",
   "metadata": {},
   "outputs": [],
   "source": []
  },
  {
   "cell_type": "code",
   "execution_count": null,
   "id": "30e1450f-198d-4d58-a878-7abcfd5a7dfe",
   "metadata": {},
   "outputs": [],
   "source": []
  },
  {
   "cell_type": "code",
   "execution_count": null,
   "id": "d45aa6be-5aae-4b4d-8cc4-f8d2fcb27178",
   "metadata": {},
   "outputs": [],
   "source": []
  },
  {
   "cell_type": "code",
   "execution_count": null,
   "id": "cd9d97fb-9ecc-42ad-9260-8e25775194c6",
   "metadata": {},
   "outputs": [],
   "source": []
  },
  {
   "cell_type": "code",
   "execution_count": null,
   "id": "76b4c0ec-3cc8-455f-88d2-85dff79dc066",
   "metadata": {},
   "outputs": [],
   "source": []
  },
  {
   "cell_type": "code",
   "execution_count": null,
   "id": "d189efef-e91e-41cd-8e7e-631d3806f41d",
   "metadata": {},
   "outputs": [],
   "source": []
  },
  {
   "cell_type": "code",
   "execution_count": null,
   "id": "4f285468-639a-427c-9853-5fa1ba8c3398",
   "metadata": {},
   "outputs": [],
   "source": []
  },
  {
   "cell_type": "code",
   "execution_count": null,
   "id": "7766b2d3-8ada-4f2d-87ab-3995985f75c6",
   "metadata": {},
   "outputs": [],
   "source": []
  },
  {
   "cell_type": "markdown",
   "id": "22e4e090-166e-4084-bb0e-f75352f51693",
   "metadata": {},
   "source": [
    "## 3. L'envie de faire des etudes "
   ]
  },
  {
   "cell_type": "code",
   "execution_count": null,
   "id": "daaec922-6d96-4e42-8e66-52f89bd5f054",
   "metadata": {
    "tags": []
   },
   "outputs": [],
   "source": [
    "high_grade= student_df[student_df['final_grade']>=15]\n",
    "\n",
    "# Accéder à l'index des lignes où final_grade >= 15\n",
    "index_high_grade = student_df.index[student_df['final_grade'] >= 15].tolist()\n"
   ]
  },
  {
   "cell_type": "code",
   "execution_count": null,
   "id": "34140a45-a7e9-4694-8ddb-845909b8e838",
   "metadata": {
    "tags": []
   },
   "outputs": [],
   "source": [
    " sns.stripplot(y=high_grade['final_grade'], x=\"higher_ed\", data=student_df)\n",
    "\n",
    "plt.show()"
   ]
  },
  {
   "cell_type": "code",
   "execution_count": null,
   "id": "bc1b2112-ce94-4904-9c94-ca2c78751c78",
   "metadata": {
    "tags": []
   },
   "outputs": [],
   "source": [
    " sns.stripplot(y=low_grade['final_grade'], x=\"higher_ed\", data=student_df)\n",
    "\n",
    "plt.show()"
   ]
  },
  {
   "cell_type": "code",
   "execution_count": null,
   "id": "a59aa829-52b3-487e-b06d-eba161dc64fc",
   "metadata": {
    "tags": []
   },
   "outputs": [],
   "source": [
    " sns.violinplot(y=low_grade['final_grade'], x=\"higher_ed\", data=student_df)\n",
    "\n",
    "plt.show()"
   ]
  },
  {
   "cell_type": "code",
   "execution_count": null,
   "id": "55d52e86-7f78-4fa8-9792-4adc47628208",
   "metadata": {},
   "outputs": [],
   "source": []
  },
  {
   "cell_type": "code",
   "execution_count": null,
   "id": "ae55f703-c480-495f-b88f-eb6bfe61c004",
   "metadata": {
    "tags": []
   },
   "outputs": [],
   "source": [
    "higher_ed_mapp={'no':0,'yes':1}\n",
    "student_df[\"higher_ed_num\"]= student_df[\"higher_ed\"].map(higher_ed_mapp)"
   ]
  },
  {
   "cell_type": "code",
   "execution_count": null,
   "id": "55550b4c-745e-49ac-9403-f87c85b76633",
   "metadata": {
    "tags": []
   },
   "outputs": [],
   "source": [
    "parent_education_mapping={'none':0,'primary education':1, '5th to 9th grade':2, 'secondary education':3,'higher education':4}\n",
    "student_df[\"mother_education_num\"]= student_df[\"mother_education\"].map(parent_education_mapping)\n",
    "student_df[\"father_education_num\"]=student_df[\"father_education\"].map(parent_education_mapping)"
   ]
  },
  {
   "cell_type": "code",
   "execution_count": null,
   "id": "0347a6aa-595a-4a06-832a-b1ac2318b3e9",
   "metadata": {
    "tags": []
   },
   "outputs": [],
   "source": [
    "parent_job_mapping={\"at_home\":0,\"services\":1, \"teacher\":2, \"health\":3, \"other\":4}\n",
    "student_df[\"mother_job_num\"]=student_df[\"mother_job\"].map(parent_job_mapping)\n",
    "student_df[\"father_job_num\"]=student_df[\"father_job\"].map(parent_job_mapping)"
   ]
  },
  {
   "cell_type": "code",
   "execution_count": null,
   "id": "4b6cc559-1338-42e1-8911-8106627d5b51",
   "metadata": {
    "tags": []
   },
   "outputs": [],
   "source": [
    "educ_features=['mother_job_num', 'father_job_num', 'mother_education_num','father_education_num','class_failures','final_grade','higher_ed_num']"
   ]
  },
  {
   "cell_type": "code",
   "execution_count": null,
   "id": "a4e614d2-55fb-4938-b145-f3954d81fc89",
   "metadata": {
    "tags": []
   },
   "outputs": [],
   "source": [
    "sub_educ_df = student_df.loc[:, ['mother_job_num', 'father_job_num', 'mother_education_num','father_education_num','class_failures','final_grade','higher_ed_num']]"
   ]
  },
  {
   "cell_type": "code",
   "execution_count": null,
   "id": "32ebd98f-76ed-465b-b065-8099bbf16a3b",
   "metadata": {
    "tags": []
   },
   "outputs": [],
   "source": [
    "correlation_matrix=sub_educ_df.corr(numeric_only = False, method = 'spearman' ).round(2)\n",
    "subset_correlation_matrix_educ = correlation_matrix[educ_features].transpose()\n",
    "subset_correlation_matrix_educ"
   ]
  },
  {
   "cell_type": "code",
   "execution_count": null,
   "id": "99855144-cea1-4ad0-af8c-14fe00bc933d",
   "metadata": {
    "tags": []
   },
   "outputs": [],
   "source": [
    "plt.figure(figsize=(17,2))\n",
    "sns.heatmap(data=subset_correlation_matrix_educ,cmap='coolwarm', annot=True, xticklabels=sub_educ_df.columns.tolist(), yticklabels=educ_features)\n",
    "plt.show()"
   ]
  },
  {
   "cell_type": "code",
   "execution_count": null,
   "id": "0eb3520a-e099-4813-b0fd-b77280139979",
   "metadata": {
    "tags": []
   },
   "outputs": [],
   "source": [
    " sns.barplot(x=\"mother_education_num\", y=\"higher_ed_num\", data=student_df,errorbar=None)\n",
    "plt.title('Influence of mother education on higher education')\n",
    "\n",
    "plt.show()"
   ]
  },
  {
   "cell_type": "code",
   "execution_count": null,
   "id": "909735c7-25ec-4e97-b977-0e33a9de6436",
   "metadata": {
    "tags": []
   },
   "outputs": [],
   "source": [
    "fig, ax = plt.subplots(1, 2, figsize=(12, 3))\n",
    "\n",
    "\n",
    "sns.barplot(data = student_df , x='mother_education_num',hue= \"father_education_num\",  y = \"higher_ed_num\", errorbar=None,)  \n",
    "\n",
    "\n",
    "ax[1].set_xticklabels(ax.get_xticklabels(), rotation=45, ha='right', rotation_mode='anchor')   \n",
    "\n",
    "plt.subplots_adjust(wspace=0.5)\n",
    "\n",
    "\n",
    "ax.set_xlabel('')\n",
    "\n",
    "plt.show()"
   ]
  },
  {
   "cell_type": "code",
   "execution_count": null,
   "id": "5bf4b49f-a002-4ed3-bb5d-cdba686a2c82",
   "metadata": {},
   "outputs": [],
   "source": []
  },
  {
   "cell_type": "code",
   "execution_count": null,
   "id": "55dd7b51-17bc-402e-a85e-10f2c7e2c378",
   "metadata": {},
   "outputs": [],
   "source": []
  },
  {
   "cell_type": "code",
   "execution_count": null,
   "id": "4e77da52-6b75-4136-886e-7931d011856e",
   "metadata": {},
   "outputs": [],
   "source": []
  },
  {
   "cell_type": "code",
   "execution_count": null,
   "id": "d1def410-db7a-4fd7-a25e-fd289169d73e",
   "metadata": {},
   "outputs": [],
   "source": []
  },
  {
   "cell_type": "code",
   "execution_count": null,
   "id": "264d301f-06a4-4805-990b-555e8a087a4d",
   "metadata": {},
   "outputs": [],
   "source": []
  },
  {
   "cell_type": "code",
   "execution_count": null,
   "id": "eb41b685-522a-43f4-8d43-be2bef7db50b",
   "metadata": {},
   "outputs": [],
   "source": []
  },
  {
   "cell_type": "code",
   "execution_count": null,
   "id": "c3903374-6b49-43df-8252-d1dd139fbb1c",
   "metadata": {},
   "outputs": [],
   "source": []
  },
  {
   "cell_type": "code",
   "execution_count": null,
   "id": "74f19862-f0b0-408f-b8b9-8d8c43204929",
   "metadata": {},
   "outputs": [],
   "source": []
  }
 ],
 "metadata": {
  "kernelspec": {
   "display_name": "Python 3 (ipykernel)",
   "language": "python",
   "name": "python3"
  },
  "language_info": {
   "codemirror_mode": {
    "name": "ipython",
    "version": 3
   },
   "file_extension": ".py",
   "mimetype": "text/x-python",
   "name": "python",
   "nbconvert_exporter": "python",
   "pygments_lexer": "ipython3",
   "version": "3.11.5"
  }
 },
 "nbformat": 4,
 "nbformat_minor": 5
}
